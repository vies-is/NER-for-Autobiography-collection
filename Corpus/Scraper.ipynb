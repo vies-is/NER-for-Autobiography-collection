{
 "cells": [
  {
   "cell_type": "markdown",
   "metadata": {},
   "source": [
    "A scraper for Autobiography collection.\n",
    "Source: garamantas.lv"
   ]
  },
  {
   "cell_type": "markdown",
   "metadata": {},
   "source": [
    "First, all links to the autobiographies were identified in the collection, using https://garamantas.lv/lv/collection/index?CollectionSearch%5Brepository_id%5D=1115628 as a base URL. Key to the autobiography links was combination of \"/lv/collection/\" and IDs of each collection. The result, however, will exceed the 219 autobiographies."
   ]
  },
  {
   "cell_type": "code",
   "execution_count": 2,
   "metadata": {},
   "outputs": [
    {
     "name": "stdout",
     "output_type": "stream",
     "text": [
      "428 unique links saved to links.csv\n"
     ]
    }
   ],
   "source": [
    "import requests\n",
    "from bs4 import BeautifulSoup\n",
    "import csv\n",
    "from urllib.parse import urljoin\n",
    "import re\n",
    "\n",
    "def find_unique_collection_pages(base_url):\n",
    "    \"\"\"\n",
    "    Finds all unique collection pages containing '/lv/collection/' in the base URL.\n",
    "    Returns a list of absolute URLs.\n",
    "    \"\"\"\n",
    "    response = requests.get(base_url)\n",
    "    soup = BeautifulSoup(response.content, 'html.parser')\n",
    "    collection_links = set()  # Using a set to ensure uniqueness\n",
    "\n",
    "    for link in soup.find_all('a', href=True):\n",
    "        absolute_url = urljoin(base_url, link['href'])\n",
    "        if '/lv/collection/' in absolute_url:\n",
    "            collection_links.add(absolute_url)\n",
    "\n",
    "    return list(collection_links)\n",
    "\n",
    "def scrape_and_save_links(collection_links):\n",
    "    \"\"\"\n",
    "    Scrapes links from each collection page and saves unique links to 'links.csv'.\n",
    "    \"\"\"\n",
    "    unique_links = set()  # Set to store unique links\n",
    "    for collection_link in collection_links:\n",
    "        response = requests.get(collection_link)\n",
    "        soup = BeautifulSoup(response.content, 'html.parser')\n",
    "        target_links = soup.find_all('a', href=True)\n",
    "\n",
    "        for link in target_links:\n",
    "            href = link['href']\n",
    "            # Check if the link matches the specified structure\n",
    "            if re.match(r'/lv/collection/\\d{7,}/[a-zA-Z]+', href):\n",
    "                unique_links.add(href)  # Add to set to ensure uniqueness\n",
    "\n",
    "    # Save the unique links to 'links.csv'\n",
    "    with open('links.csv', 'w', newline='') as csvfile:\n",
    "        writer = csv.writer(csvfile)\n",
    "        writer.writerow(['Link'])\n",
    "        for link in unique_links:\n",
    "            writer.writerow([link])\n",
    "\n",
    "    print(f\"{len(unique_links)} autobiography links saved to links.csv\")\n",
    "\n",
    "# Example usage:\n",
    "base_url = 'https://garamantas.lv/lv/collection/index?CollectionSearch%5Brepository_id%5D=1115628'\n",
    "collection_pages = find_unique_collection_pages(base_url)\n",
    "scrape_and_save_links(collection_pages)"
   ]
  },
  {
   "cell_type": "markdown",
   "metadata": {},
   "source": [
    "428 unique links are a significantly more than the actual number of 219 autobiographies, but this selection allowed to analyse the structures of the data in the repository. With a simple function it will be possible to filter the unnecessary files and reconstitute them as full URLs for each of the autobiographies."
   ]
  }
 ],
 "metadata": {
  "kernelspec": {
   "display_name": "Python 3",
   "language": "python",
   "name": "python3"
  },
  "language_info": {
   "codemirror_mode": {
    "name": "ipython",
    "version": 3
   },
   "file_extension": ".py",
   "mimetype": "text/x-python",
   "name": "python",
   "nbconvert_exporter": "python",
   "pygments_lexer": "ipython3",
   "version": "3.12.0"
  }
 },
 "nbformat": 4,
 "nbformat_minor": 2
}
