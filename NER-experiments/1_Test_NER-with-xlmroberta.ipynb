{
 "cells": [
  {
   "cell_type": "markdown",
   "metadata": {},
   "source": [
    "## Named Entity Recognition: test of the model\n",
    "\n",
    "This is the test with the model chosen for analyis - xlm-roberta-large-ner-hrl model, henceforth Model that was chosen as a suitable candidate for the NER task on Latvian corpus. \n",
    "Model is specifically meant to be NER model for 10 high resource languages, including Latvian, and is based on fine-tuned XLM-RoBERTa large model, trained to extract three entity types - locations, organizations and persons.\n",
    "See reference for the link and initial source code of the Model.\n",
    "\n",
    "\n",
    "Further comments:\n",
    "1) Conceptually, the code used in this file for the most part served to prepare for main experiments demonstrated in \"2_NER_with_xlmroberta.ipynb\". Similary, several preparatory steps, e.g. files used in this file have been created here.\n",
    "2) The code has not been cleaned. It demonstrates the consecutive and iterative steps taken by student. Due to time constraints, repeated imports of libraries, import of libraries ultimately not used and other redundancies either are plentiful or occassional. \n",
    "3) The experiments for corpus analysis relies on course materials prepared by Gints Jēkabsons, Riga Techinal University (see reference).\n",
    "4) In the project, two AI tools have been used as assistants in the developing of the code: Chat GPT-3.5 by OpenAI (ChatGPT 3.5., 2022) was helpful for debugging and overcoming several deadlocks, but GitHub Copilot’s (GitHub Copilot, 2021) chief role was completion of some code lines and non-crucial commenting for time-saving. As it happens with AI tools, the assistance was influenced by prompts, comments and feedback, and output was further edited. For the purposes of academic integrity, it is important to state that such assistance on specific occassions was substantial. "
   ]
  },
  {
   "cell_type": "code",
   "execution_count": null,
   "metadata": {},
   "outputs": [],
   "source": [
    "#first, however, a virtual environment must be created\n",
    "#for this, a new directory will be made, and the virtual environment will be created in this directory\n",
    "# mkdir command is used for this, with the directory name added to the relevant path\n",
    "# virtual environement will be created in this new directory using the command python3 -m venv"
   ]
  },
  {
   "cell_type": "code",
   "execution_count": 1,
   "metadata": {},
   "outputs": [
    {
     "name": "stdout",
     "output_type": "stream",
     "text": [
      "Defaulting to user installation because normal site-packages is not writeable\n",
      "Requirement already satisfied: transformers in c:\\users\\papel\\appdata\\roaming\\python\\python312\\site-packages (4.40.1)\n",
      "Requirement already satisfied: sentencepiece in c:\\users\\papel\\appdata\\roaming\\python\\python312\\site-packages (0.2.0)\n",
      "Requirement already satisfied: protobuf in c:\\users\\papel\\appdata\\roaming\\python\\python312\\site-packages (5.26.1)\n",
      "Requirement already satisfied: filelock in c:\\users\\papel\\appdata\\roaming\\python\\python312\\site-packages (from transformers) (3.13.1)\n",
      "Requirement already satisfied: huggingface-hub<1.0,>=0.19.3 in c:\\users\\papel\\appdata\\roaming\\python\\python312\\site-packages (from transformers) (0.22.2)\n",
      "Requirement already satisfied: numpy>=1.17 in c:\\program files\\python312\\lib\\site-packages (from transformers) (1.26.0)\n",
      "Requirement already satisfied: packaging>=20.0 in c:\\program files\\python312\\lib\\site-packages (from transformers) (23.2)\n",
      "Requirement already satisfied: pyyaml>=5.1 in c:\\program files\\python312\\lib\\site-packages (from transformers) (6.0.1)\n",
      "Requirement already satisfied: regex!=2019.12.17 in c:\\program files\\python312\\lib\\site-packages (from transformers) (2023.8.8)\n",
      "Requirement already satisfied: requests in c:\\program files\\python312\\lib\\site-packages (from transformers) (2.31.0)\n",
      "Requirement already satisfied: tokenizers<0.20,>=0.19 in c:\\users\\papel\\appdata\\roaming\\python\\python312\\site-packages (from transformers) (0.19.1)\n",
      "Requirement already satisfied: safetensors>=0.4.1 in c:\\users\\papel\\appdata\\roaming\\python\\python312\\site-packages (from transformers) (0.4.1)\n",
      "Requirement already satisfied: tqdm>=4.27 in c:\\program files\\python312\\lib\\site-packages (from transformers) (4.66.1)\n",
      "Requirement already satisfied: fsspec>=2023.5.0 in c:\\users\\papel\\appdata\\roaming\\python\\python312\\site-packages (from huggingface-hub<1.0,>=0.19.3->transformers) (2023.12.2)\n",
      "Requirement already satisfied: typing-extensions>=3.7.4.3 in c:\\users\\papel\\appdata\\roaming\\python\\python312\\site-packages (from huggingface-hub<1.0,>=0.19.3->transformers) (4.9.0)\n",
      "Requirement already satisfied: colorama in c:\\program files\\python312\\lib\\site-packages (from tqdm>=4.27->transformers) (0.4.6)\n",
      "Requirement already satisfied: charset-normalizer<4,>=2 in c:\\program files\\python312\\lib\\site-packages (from requests->transformers) (3.3.0)\n",
      "Requirement already satisfied: idna<4,>=2.5 in c:\\program files\\python312\\lib\\site-packages (from requests->transformers) (3.4)\n",
      "Requirement already satisfied: urllib3<3,>=1.21.1 in c:\\program files\\python312\\lib\\site-packages (from requests->transformers) (2.0.6)\n",
      "Requirement already satisfied: certifi>=2017.4.17 in c:\\program files\\python312\\lib\\site-packages (from requests->transformers) (2023.7.22)\n"
     ]
    }
   ],
   "source": [
    "! pip install transformers sentencepiece protobuf"
   ]
  },
  {
   "cell_type": "code",
   "execution_count": 1,
   "metadata": {},
   "outputs": [
    {
     "name": "stderr",
     "output_type": "stream",
     "text": [
      "c:\\Program Files\\Python312\\Lib\\site-packages\\transformers\\utils\\generic.py:441: UserWarning: torch.utils._pytree._register_pytree_node is deprecated. Please use torch.utils._pytree.register_pytree_node instead.\n",
      "  _torch_pytree._register_pytree_node(\n",
      "c:\\Program Files\\Python312\\Lib\\site-packages\\transformers\\utils\\generic.py:309: UserWarning: torch.utils._pytree._register_pytree_node is deprecated. Please use torch.utils._pytree.register_pytree_node instead.\n",
      "  _torch_pytree._register_pytree_node(\n",
      "c:\\Program Files\\Python312\\Lib\\site-packages\\transformers\\utils\\generic.py:309: UserWarning: torch.utils._pytree._register_pytree_node is deprecated. Please use torch.utils._pytree.register_pytree_node instead.\n",
      "  _torch_pytree._register_pytree_node(\n"
     ]
    }
   ],
   "source": [
    "from transformers import AutoTokenizer, AutoModelForTokenClassification\n",
    "from transformers import pipeline\n",
    "tokenizer = AutoTokenizer.from_pretrained(\"Davlan/xlm-roberta-large-ner-hrl\")\n",
    "model = AutoModelForTokenClassification.from_pretrained(\"Davlan/xlm-roberta-large-ner-hrl\") # the model is loaded. Warning: it is over 2GB large\n",
    "nlp = pipeline(\"ner\", model=model, tokenizer=tokenizer, aggregation_strategy=\"first\") # the pipeline is created\n"
   ]
  },
  {
   "cell_type": "markdown",
   "metadata": {},
   "source": [
    "For the test, the very first diary from the corpus was chosen. It is suitable candidate due to its average lenght, laconic and relatively clear writing style that holds diverse information with usually clearly distinguishable entities. Significantly, Model was tested on unpreprocessed document.  "
   ]
  },
  {
   "cell_type": "code",
   "execution_count": 2,
   "metadata": {},
   "outputs": [
    {
     "name": "stdout",
     "output_type": "stream",
     "text": [
      "[{'entity_group': 'PER', 'score': 0.99998176, 'word': 'Ilonu', 'start': 56, 'end': 62}, {'entity_group': 'PER', 'score': 0.9999753, 'word': 'Ilonai', 'start': 357, 'end': 364}, {'entity_group': 'PER', 'score': 0.99998426, 'word': 'Ilona', 'start': 754, 'end': 760}, {'entity_group': 'LOC', 'score': 0.9994635, 'word': 'Alsviķi', 'start': 775, 'end': 783}, {'entity_group': 'PER', 'score': 0.9995772, 'word': 'Pēteris', 'start': 936, 'end': 944}, {'entity_group': 'PER', 'score': 0.9915124, 'word': 'IsmaeļaElla', 'start': 986, 'end': 999}, {'entity_group': 'PER', 'score': 0.999987, 'word': 'Ilona', 'start': 1132, 'end': 1138}, {'entity_group': 'PER', 'score': 0.9999888, 'word': 'Ilona', 'start': 1287, 'end': 1293}, {'entity_group': 'PER', 'score': 0.9997515, 'word': 'Alvis', 'start': 1309, 'end': 1315}, {'entity_group': 'PER', 'score': 0.99994516, 'word': 'Ligita', 'start': 1359, 'end': 1366}, {'entity_group': 'PER', 'score': 0.6259897, 'word': 'Lī', 'start': 1458, 'end': 1461}]\n",
      "[{'entity_group': 'PER', 'score': 0.99998176, 'word': 'Ilonu', 'start': 56, 'end': 62}, {'entity_group': 'PER', 'score': 0.9999753, 'word': 'Ilonai', 'start': 357, 'end': 364}, {'entity_group': 'PER', 'score': 0.99998426, 'word': 'Ilona', 'start': 754, 'end': 760}, {'entity_group': 'LOC', 'score': 0.9994635, 'word': 'Alsviķi', 'start': 775, 'end': 783}, {'entity_group': 'PER', 'score': 0.9995772, 'word': 'Pēteris', 'start': 936, 'end': 944}, {'entity_group': 'PER', 'score': 0.9915124, 'word': 'IsmaeļaElla', 'start': 986, 'end': 999}, {'entity_group': 'PER', 'score': 0.999987, 'word': 'Ilona', 'start': 1132, 'end': 1138}, {'entity_group': 'PER', 'score': 0.9999888, 'word': 'Ilona', 'start': 1287, 'end': 1293}, {'entity_group': 'PER', 'score': 0.9997515, 'word': 'Alvis', 'start': 1309, 'end': 1315}, {'entity_group': 'PER', 'score': 0.99994516, 'word': 'Ligita', 'start': 1359, 'end': 1366}, {'entity_group': 'PER', 'score': 0.6259897, 'word': 'Lī', 'start': 1458, 'end': 1461}]\n",
      "[{'entity_group': 'PER', 'score': 0.99998176, 'word': 'Ilonu', 'start': 56, 'end': 62}, {'entity_group': 'PER', 'score': 0.9999753, 'word': 'Ilonai', 'start': 357, 'end': 364}, {'entity_group': 'PER', 'score': 0.99998426, 'word': 'Ilona', 'start': 754, 'end': 760}, {'entity_group': 'LOC', 'score': 0.9994635, 'word': 'Alsviķi', 'start': 775, 'end': 783}, {'entity_group': 'PER', 'score': 0.9995772, 'word': 'Pēteris', 'start': 936, 'end': 944}, {'entity_group': 'PER', 'score': 0.9915124, 'word': 'IsmaeļaElla', 'start': 986, 'end': 999}, {'entity_group': 'PER', 'score': 0.999987, 'word': 'Ilona', 'start': 1132, 'end': 1138}, {'entity_group': 'PER', 'score': 0.9999888, 'word': 'Ilona', 'start': 1287, 'end': 1293}, {'entity_group': 'PER', 'score': 0.9997515, 'word': 'Alvis', 'start': 1309, 'end': 1315}, {'entity_group': 'PER', 'score': 0.99994516, 'word': 'Ligita', 'start': 1359, 'end': 1366}, {'entity_group': 'PER', 'score': 0.6259897, 'word': 'Lī', 'start': 1458, 'end': 1461}]\n",
      "[{'entity_group': 'PER', 'score': 0.99998176, 'word': 'Ilonu', 'start': 56, 'end': 62}, {'entity_group': 'PER', 'score': 0.9999753, 'word': 'Ilonai', 'start': 357, 'end': 364}, {'entity_group': 'PER', 'score': 0.99998426, 'word': 'Ilona', 'start': 754, 'end': 760}, {'entity_group': 'LOC', 'score': 0.9994635, 'word': 'Alsviķi', 'start': 775, 'end': 783}, {'entity_group': 'PER', 'score': 0.9995772, 'word': 'Pēteris', 'start': 936, 'end': 944}, {'entity_group': 'PER', 'score': 0.9915124, 'word': 'IsmaeļaElla', 'start': 986, 'end': 999}, {'entity_group': 'PER', 'score': 0.999987, 'word': 'Ilona', 'start': 1132, 'end': 1138}, {'entity_group': 'PER', 'score': 0.9999888, 'word': 'Ilona', 'start': 1287, 'end': 1293}, {'entity_group': 'PER', 'score': 0.9997515, 'word': 'Alvis', 'start': 1309, 'end': 1315}, {'entity_group': 'PER', 'score': 0.99994516, 'word': 'Ligita', 'start': 1359, 'end': 1366}, {'entity_group': 'PER', 'score': 0.6259897, 'word': 'Lī', 'start': 1458, 'end': 1461}]\n",
      "[{'entity_group': 'PER', 'score': 0.99998176, 'word': 'Ilonu', 'start': 56, 'end': 62}, {'entity_group': 'PER', 'score': 0.9999753, 'word': 'Ilonai', 'start': 357, 'end': 364}, {'entity_group': 'PER', 'score': 0.99998426, 'word': 'Ilona', 'start': 754, 'end': 760}, {'entity_group': 'LOC', 'score': 0.9994635, 'word': 'Alsviķi', 'start': 775, 'end': 783}, {'entity_group': 'PER', 'score': 0.9995772, 'word': 'Pēteris', 'start': 936, 'end': 944}, {'entity_group': 'PER', 'score': 0.9915124, 'word': 'IsmaeļaElla', 'start': 986, 'end': 999}, {'entity_group': 'PER', 'score': 0.999987, 'word': 'Ilona', 'start': 1132, 'end': 1138}, {'entity_group': 'PER', 'score': 0.9999888, 'word': 'Ilona', 'start': 1287, 'end': 1293}, {'entity_group': 'PER', 'score': 0.9997515, 'word': 'Alvis', 'start': 1309, 'end': 1315}, {'entity_group': 'PER', 'score': 0.99994516, 'word': 'Ligita', 'start': 1359, 'end': 1366}, {'entity_group': 'PER', 'score': 0.6259897, 'word': 'Lī', 'start': 1458, 'end': 1461}]\n",
      "[{'entity_group': 'PER', 'score': 0.99998176, 'word': 'Ilonu', 'start': 56, 'end': 62}, {'entity_group': 'PER', 'score': 0.9999753, 'word': 'Ilonai', 'start': 357, 'end': 364}, {'entity_group': 'PER', 'score': 0.99998426, 'word': 'Ilona', 'start': 754, 'end': 760}, {'entity_group': 'LOC', 'score': 0.9994635, 'word': 'Alsviķi', 'start': 775, 'end': 783}, {'entity_group': 'PER', 'score': 0.9995772, 'word': 'Pēteris', 'start': 936, 'end': 944}, {'entity_group': 'PER', 'score': 0.9915124, 'word': 'IsmaeļaElla', 'start': 986, 'end': 999}, {'entity_group': 'PER', 'score': 0.999987, 'word': 'Ilona', 'start': 1132, 'end': 1138}, {'entity_group': 'PER', 'score': 0.9999888, 'word': 'Ilona', 'start': 1287, 'end': 1293}, {'entity_group': 'PER', 'score': 0.9997515, 'word': 'Alvis', 'start': 1309, 'end': 1315}, {'entity_group': 'PER', 'score': 0.99994516, 'word': 'Ligita', 'start': 1359, 'end': 1366}, {'entity_group': 'PER', 'score': 0.6259897, 'word': 'Lī', 'start': 1458, 'end': 1461}]\n",
      "[{'entity_group': 'PER', 'score': 0.99998176, 'word': 'Ilonu', 'start': 56, 'end': 62}, {'entity_group': 'PER', 'score': 0.9999753, 'word': 'Ilonai', 'start': 357, 'end': 364}, {'entity_group': 'PER', 'score': 0.99998426, 'word': 'Ilona', 'start': 754, 'end': 760}, {'entity_group': 'LOC', 'score': 0.9994635, 'word': 'Alsviķi', 'start': 775, 'end': 783}, {'entity_group': 'PER', 'score': 0.9995772, 'word': 'Pēteris', 'start': 936, 'end': 944}, {'entity_group': 'PER', 'score': 0.9915124, 'word': 'IsmaeļaElla', 'start': 986, 'end': 999}, {'entity_group': 'PER', 'score': 0.999987, 'word': 'Ilona', 'start': 1132, 'end': 1138}, {'entity_group': 'PER', 'score': 0.9999888, 'word': 'Ilona', 'start': 1287, 'end': 1293}, {'entity_group': 'PER', 'score': 0.9997515, 'word': 'Alvis', 'start': 1309, 'end': 1315}, {'entity_group': 'PER', 'score': 0.99994516, 'word': 'Ligita', 'start': 1359, 'end': 1366}, {'entity_group': 'PER', 'score': 0.6259897, 'word': 'Lī', 'start': 1458, 'end': 1461}]\n",
      "[{'entity_group': 'PER', 'score': 0.99998176, 'word': 'Ilonu', 'start': 56, 'end': 62}, {'entity_group': 'PER', 'score': 0.9999753, 'word': 'Ilonai', 'start': 357, 'end': 364}, {'entity_group': 'PER', 'score': 0.99998426, 'word': 'Ilona', 'start': 754, 'end': 760}, {'entity_group': 'LOC', 'score': 0.9994635, 'word': 'Alsviķi', 'start': 775, 'end': 783}, {'entity_group': 'PER', 'score': 0.9995772, 'word': 'Pēteris', 'start': 936, 'end': 944}, {'entity_group': 'PER', 'score': 0.9915124, 'word': 'IsmaeļaElla', 'start': 986, 'end': 999}, {'entity_group': 'PER', 'score': 0.999987, 'word': 'Ilona', 'start': 1132, 'end': 1138}, {'entity_group': 'PER', 'score': 0.9999888, 'word': 'Ilona', 'start': 1287, 'end': 1293}, {'entity_group': 'PER', 'score': 0.9997515, 'word': 'Alvis', 'start': 1309, 'end': 1315}, {'entity_group': 'PER', 'score': 0.99994516, 'word': 'Ligita', 'start': 1359, 'end': 1366}, {'entity_group': 'PER', 'score': 0.6259897, 'word': 'Lī', 'start': 1458, 'end': 1461}]\n",
      "[{'entity_group': 'PER', 'score': 0.99998176, 'word': 'Ilonu', 'start': 56, 'end': 62}, {'entity_group': 'PER', 'score': 0.9999753, 'word': 'Ilonai', 'start': 357, 'end': 364}, {'entity_group': 'PER', 'score': 0.99998426, 'word': 'Ilona', 'start': 754, 'end': 760}, {'entity_group': 'LOC', 'score': 0.9994635, 'word': 'Alsviķi', 'start': 775, 'end': 783}, {'entity_group': 'PER', 'score': 0.9995772, 'word': 'Pēteris', 'start': 936, 'end': 944}, {'entity_group': 'PER', 'score': 0.9915124, 'word': 'IsmaeļaElla', 'start': 986, 'end': 999}, {'entity_group': 'PER', 'score': 0.999987, 'word': 'Ilona', 'start': 1132, 'end': 1138}, {'entity_group': 'PER', 'score': 0.9999888, 'word': 'Ilona', 'start': 1287, 'end': 1293}, {'entity_group': 'PER', 'score': 0.9997515, 'word': 'Alvis', 'start': 1309, 'end': 1315}, {'entity_group': 'PER', 'score': 0.99994516, 'word': 'Ligita', 'start': 1359, 'end': 1366}, {'entity_group': 'PER', 'score': 0.6259897, 'word': 'Lī', 'start': 1458, 'end': 1461}]\n",
      "[{'entity_group': 'PER', 'score': 0.99998176, 'word': 'Ilonu', 'start': 56, 'end': 62}, {'entity_group': 'PER', 'score': 0.9999753, 'word': 'Ilonai', 'start': 357, 'end': 364}, {'entity_group': 'PER', 'score': 0.99998426, 'word': 'Ilona', 'start': 754, 'end': 760}, {'entity_group': 'LOC', 'score': 0.9994635, 'word': 'Alsviķi', 'start': 775, 'end': 783}, {'entity_group': 'PER', 'score': 0.9995772, 'word': 'Pēteris', 'start': 936, 'end': 944}, {'entity_group': 'PER', 'score': 0.9915124, 'word': 'IsmaeļaElla', 'start': 986, 'end': 999}, {'entity_group': 'PER', 'score': 0.999987, 'word': 'Ilona', 'start': 1132, 'end': 1138}, {'entity_group': 'PER', 'score': 0.9999888, 'word': 'Ilona', 'start': 1287, 'end': 1293}, {'entity_group': 'PER', 'score': 0.9997515, 'word': 'Alvis', 'start': 1309, 'end': 1315}, {'entity_group': 'PER', 'score': 0.99994516, 'word': 'Ligita', 'start': 1359, 'end': 1366}, {'entity_group': 'PER', 'score': 0.6259897, 'word': 'Lī', 'start': 1458, 'end': 1461}]\n",
      "[{'entity_group': 'PER', 'score': 0.99998176, 'word': 'Ilonu', 'start': 56, 'end': 62}, {'entity_group': 'PER', 'score': 0.9999753, 'word': 'Ilonai', 'start': 357, 'end': 364}, {'entity_group': 'PER', 'score': 0.99998426, 'word': 'Ilona', 'start': 754, 'end': 760}, {'entity_group': 'LOC', 'score': 0.9994635, 'word': 'Alsviķi', 'start': 775, 'end': 783}, {'entity_group': 'PER', 'score': 0.9995772, 'word': 'Pēteris', 'start': 936, 'end': 944}, {'entity_group': 'PER', 'score': 0.9915124, 'word': 'IsmaeļaElla', 'start': 986, 'end': 999}, {'entity_group': 'PER', 'score': 0.999987, 'word': 'Ilona', 'start': 1132, 'end': 1138}, {'entity_group': 'PER', 'score': 0.9999888, 'word': 'Ilona', 'start': 1287, 'end': 1293}, {'entity_group': 'PER', 'score': 0.9997515, 'word': 'Alvis', 'start': 1309, 'end': 1315}, {'entity_group': 'PER', 'score': 0.99994516, 'word': 'Ligita', 'start': 1359, 'end': 1366}, {'entity_group': 'PER', 'score': 0.6259897, 'word': 'Lī', 'start': 1458, 'end': 1461}]\n"
     ]
    },
    {
     "name": "stderr",
     "output_type": "stream",
     "text": [
      "C:\\Users\\papel\\AppData\\Roaming\\Python\\Python312\\site-packages\\transformers\\pipelines\\token_classification.py:392: UserWarning: Tokenizer does not support real words, using fallback heuristic\n",
      "  warnings.warn(\n"
     ]
    }
   ],
   "source": [
    "# Test with an example text from corpus\n",
    "\n",
    "file_path = r\"C:\\Users\\papel\\GitHub_Projects\\NER-for-Autobiography-collection\\Data\\Data\\Corpus\\1115688_Karla-Valguma-dienasgramatas.txt\"\n",
    "with open(file_path, \"r\", encoding=\"utf-8\") as file:\n",
    "    example_text = file.read()\n",
    "\n",
    "ner_results = nlp(example_text)\n",
    "\n",
    "for entity in ner_results:\n",
    "    print(ner_results)\n",
    "    "
   ]
  },
  {
   "cell_type": "code",
   "execution_count": 3,
   "metadata": {},
   "outputs": [
    {
     "name": "stdout",
     "output_type": "stream",
     "text": [
      "Words associated with 'LOC' tags: ['Alsviķi', 'Mārkalnē', 'Kolberģi', 'PSRSKanādas', 'Krejotavā', 'Kolberģi', 'Bērziņviļņa', 'Alūksni', 'Ilonas', 'Alūksni', 'Alūksnē', 'Alūksnē', 'Alūksni', 'Alūksni', '\"Kalniņos\"', 'Matīsenes', 'Alūksni', 'Igaunijas', 'Alūksni', 'Alūksni', 'Ilonas', 'Francija', 'Vambolas', 'Alūksni', 'Ērģenes', 'Guntakapam', 'Kolberģi', 'Baltais', 'Vilka', 'Jaunsilenieku', 'Mžs.', 'Biruta', 'Ērģeneskapiem', 'Guntakapa', 'Valkas', 'Ērģenei', 'Apes', 'Alūksnei', 'Viļņa', 'ViļņaB.', 'Viļņa', 'Lāčudārza', 'Matīsenē', 'Rīgas', 'Rīgā', 'Talsu', 'Talsiem', 'Līvānu', 'Tukuma', 'Rīgā', 'Alūks.,', 'Cēsuceļa', 'Alūksnē', 'Alūksni', 'Liepnas', 'Tarvās', 'Rīgas', 'Mālupes', 'USA', 'PSRS', 'Viļņa', 'Alūksni', 'Alūksnē', 'Kolberģi', 'Alūksni', 'Alūksni', 'Rīgu.', 'Rīgu', 'Alūksnē', '\"Bērnu', 'Francija', 'PSRS', 'Laipnekalna', 'Gaiziņkalnā', 'Otesdzirnavām', 'Brenciem', 'Vīksnas', 'Viļņa', 'Alūksnē', 'Alūksnē', 'Somija', 'Alūksnē\"Ezermalā\",', 'Saks', 'spaini', 'Alūksni', 'Balviem', 'Misso', 'PSRS', 'Norvēģija', 'Izraēla', 'Rīgas', 'Alūksni', 'Krejotavā', 'Krejotavas', 'Literatūrasunmākslasmuzejā', 'Selekcijas', 'Rīgā', 'Biķerniekiem', 'Juglu', 'Lenkavu', 'Rīgas', 'Kolberģi', 'Visikumu', 'Alūksni', '\"Zirnīša\"', 'Dzelzavu', 'Alūksni', 'Gulbenesielu', 'Alūksni', 'Autoostā', 'Nāgeļa', 'Silenieku', 'Straujupēs', 'Visikumu', 'Tūcenessilu', 'Somu', 'Kolberģi', 'Matīseni', 'Stebera', 'Ziņģe', 'Srenciem', 'Jurenskutilta', 'Islandes', 'PSRS', 'Alūksnē', 'Matīsenē', 'Zirnīti', 'Mālupes', 'Mālupes', 'Alsviķos', 'Metenis', 'Arūbassala', 'Antiļu', '(Holandes', 'Rīgas', 'Bejaspag.', 'Rīgā', 'Alsviķiem', 'Alūksni', 'Vaiņodes', 'PSRS', 'Anglija', 'Sovhoza102.', 'Alūksni', 'Alūksnes', 'Alūksnē', 'Dzelzavā', '', 'Bejā', 'Alūksnē', 'Kūdrupē', 'Mālupesveikalu', 'Brenčiem', 'Brenčos', 'Brenčiem', 'Alūksni', 'Alūksni', 'Alūksni', '\"Stūrīšiem\"', 'ValdaSlauc.', 'Alūksni', 'Alūksnē', 'Cēsīm', 'Taidēs', 'Poļa', 'Alūksnes', 'Alūksni']\n"
     ]
    }
   ],
   "source": [
    "import os\n",
    "\n",
    "# Test with an example text from corpus\n",
    "base_dir = os.path.dirname(os.path.abspath(__file__))\n",
    "file_path = os.path.join(base_dir, \"Data/Data/Corpus/1115688_Karla-Valguma-dienasgramatas.txt\")\n",
    "loc_words = []  \n",
    "with open(file_path, \"r\", encoding=\"utf-8\") as file:\n",
    "    for line in file: # looping through the lines in the file\n",
    "        line_results = nlp(line.strip())   \n",
    "        for entity in line_results:  # looping through the entities in the line\n",
    "            if entity[\"entity_group\"] == \"LOC\":  # I'm interested only in 'LOC' tags for now\n",
    "                loc_words.append(entity[\"word\"])   \n",
    "\n",
    "\n",
    "print(\"Words associated with 'LOC' tags:\", loc_words)\n"
   ]
  },
  {
   "cell_type": "markdown",
   "metadata": {},
   "source": [
    "The locations extracted are good candidates, for the most part. However, there are mistakes too and even wrongly labeled entities (technically, entity groups but from here on they will be referred to as entities). The reason for this lies in the aggregation strategy selected, which is \"max\". The first experiment involved comparing all five strategies available and choosing the best candidate that could be applied on the corpus."
   ]
  },
  {
   "cell_type": "code",
   "execution_count": 10,
   "metadata": {},
   "outputs": [
    {
     "name": "stderr",
     "output_type": "stream",
     "text": [
      "C:\\Users\\papel\\AppData\\Roaming\\Python\\Python312\\site-packages\\transformers\\pipelines\\token_classification.py:392: UserWarning: Tokenizer does not support real words, using fallback heuristic\n",
      "  warnings.warn(\n"
     ]
    },
    {
     "name": "stdout",
     "output_type": "stream",
     "text": [
      "Locations extracted by each pipeline:\n",
      "        simple       first     average          max\n",
      "0     Kolberģi   Kolberģi.   Kolberģi.      Alsviķi\n",
      "1      Alsviķi     Alsviķi     Alsviķi     Mārkalnē\n",
      "2    Krejotavā  Krejotavā.  Krejotavā.     Kolberģi\n",
      "3      Alūksni    Alūksni.    Alūksni.  PSRSKanādas\n",
      "4        Alūks    Alūksnē.    Alūksnē.    Krejotavā\n",
      "..         ...         ...         ...          ...\n",
      "351     Taidēs        None        None         None\n",
      "352       Poļa        None        None         None\n",
      "353   Alūksnes        None        None         None\n",
      "354        Kre        None        None         None\n",
      "355    Alūksni        None        None         None\n",
      "\n",
      "[356 rows x 4 columns]\n",
      "\n",
      "Location Counters:\n",
      "simple: 356\n",
      "first: 323\n",
      "average: 261\n",
      "max: 167\n"
     ]
    },
    {
     "ename": "PermissionError",
     "evalue": "[Errno 13] Permission denied: 'test_aggr_strat.csv'",
     "output_type": "error",
     "traceback": [
      "\u001b[1;31m---------------------------------------------------------------------------\u001b[0m",
      "\u001b[1;31mPermissionError\u001b[0m                           Traceback (most recent call last)",
      "Cell \u001b[1;32mIn[10], line 46\u001b[0m\n\u001b[0;32m     43\u001b[0m \u001b[38;5;28;01mfor\u001b[39;00m strategy, count \u001b[38;5;129;01min\u001b[39;00m location_counters\u001b[38;5;241m.\u001b[39mitems():\n\u001b[0;32m     44\u001b[0m     \u001b[38;5;28mprint\u001b[39m(\u001b[38;5;124mf\u001b[39m\u001b[38;5;124m\"\u001b[39m\u001b[38;5;132;01m{\u001b[39;00mstrategy\u001b[38;5;132;01m}\u001b[39;00m\u001b[38;5;124m: \u001b[39m\u001b[38;5;132;01m{\u001b[39;00mcount\u001b[38;5;132;01m}\u001b[39;00m\u001b[38;5;124m\"\u001b[39m)\n\u001b[1;32m---> 46\u001b[0m \u001b[43mdf\u001b[49m\u001b[38;5;241;43m.\u001b[39;49m\u001b[43mto_csv\u001b[49m\u001b[43m(\u001b[49m\u001b[38;5;124;43m\"\u001b[39;49m\u001b[38;5;124;43mtest_aggr_strat.csv\u001b[39;49m\u001b[38;5;124;43m\"\u001b[39;49m\u001b[43m,\u001b[49m\u001b[43m \u001b[49m\u001b[43mencoding\u001b[49m\u001b[38;5;241;43m=\u001b[39;49m\u001b[38;5;124;43m\"\u001b[39;49m\u001b[38;5;124;43mutf-8\u001b[39;49m\u001b[38;5;124;43m\"\u001b[39;49m\u001b[43m,\u001b[49m\u001b[43m \u001b[49m\u001b[43mindex\u001b[49m\u001b[38;5;241;43m=\u001b[39;49m\u001b[38;5;28;43;01mFalse\u001b[39;49;00m\u001b[43m)\u001b[49m \u001b[38;5;66;03m# the df is too long, so it is saved to a csv file for easier viewing\u001b[39;00m\n",
      "File \u001b[1;32m~\\AppData\\Roaming\\Python\\Python312\\site-packages\\pandas\\core\\generic.py:3902\u001b[0m, in \u001b[0;36mNDFrame.to_csv\u001b[1;34m(self, path_or_buf, sep, na_rep, float_format, columns, header, index, index_label, mode, encoding, compression, quoting, quotechar, lineterminator, chunksize, date_format, doublequote, escapechar, decimal, errors, storage_options)\u001b[0m\n\u001b[0;32m   3891\u001b[0m df \u001b[38;5;241m=\u001b[39m \u001b[38;5;28mself\u001b[39m \u001b[38;5;28;01mif\u001b[39;00m \u001b[38;5;28misinstance\u001b[39m(\u001b[38;5;28mself\u001b[39m, ABCDataFrame) \u001b[38;5;28;01melse\u001b[39;00m \u001b[38;5;28mself\u001b[39m\u001b[38;5;241m.\u001b[39mto_frame()\n\u001b[0;32m   3893\u001b[0m formatter \u001b[38;5;241m=\u001b[39m DataFrameFormatter(\n\u001b[0;32m   3894\u001b[0m     frame\u001b[38;5;241m=\u001b[39mdf,\n\u001b[0;32m   3895\u001b[0m     header\u001b[38;5;241m=\u001b[39mheader,\n\u001b[1;32m   (...)\u001b[0m\n\u001b[0;32m   3899\u001b[0m     decimal\u001b[38;5;241m=\u001b[39mdecimal,\n\u001b[0;32m   3900\u001b[0m )\n\u001b[1;32m-> 3902\u001b[0m \u001b[38;5;28;01mreturn\u001b[39;00m \u001b[43mDataFrameRenderer\u001b[49m\u001b[43m(\u001b[49m\u001b[43mformatter\u001b[49m\u001b[43m)\u001b[49m\u001b[38;5;241;43m.\u001b[39;49m\u001b[43mto_csv\u001b[49m\u001b[43m(\u001b[49m\n\u001b[0;32m   3903\u001b[0m \u001b[43m    \u001b[49m\u001b[43mpath_or_buf\u001b[49m\u001b[43m,\u001b[49m\n\u001b[0;32m   3904\u001b[0m \u001b[43m    \u001b[49m\u001b[43mlineterminator\u001b[49m\u001b[38;5;241;43m=\u001b[39;49m\u001b[43mlineterminator\u001b[49m\u001b[43m,\u001b[49m\n\u001b[0;32m   3905\u001b[0m \u001b[43m    \u001b[49m\u001b[43msep\u001b[49m\u001b[38;5;241;43m=\u001b[39;49m\u001b[43msep\u001b[49m\u001b[43m,\u001b[49m\n\u001b[0;32m   3906\u001b[0m \u001b[43m    \u001b[49m\u001b[43mencoding\u001b[49m\u001b[38;5;241;43m=\u001b[39;49m\u001b[43mencoding\u001b[49m\u001b[43m,\u001b[49m\n\u001b[0;32m   3907\u001b[0m \u001b[43m    \u001b[49m\u001b[43merrors\u001b[49m\u001b[38;5;241;43m=\u001b[39;49m\u001b[43merrors\u001b[49m\u001b[43m,\u001b[49m\n\u001b[0;32m   3908\u001b[0m \u001b[43m    \u001b[49m\u001b[43mcompression\u001b[49m\u001b[38;5;241;43m=\u001b[39;49m\u001b[43mcompression\u001b[49m\u001b[43m,\u001b[49m\n\u001b[0;32m   3909\u001b[0m \u001b[43m    \u001b[49m\u001b[43mquoting\u001b[49m\u001b[38;5;241;43m=\u001b[39;49m\u001b[43mquoting\u001b[49m\u001b[43m,\u001b[49m\n\u001b[0;32m   3910\u001b[0m \u001b[43m    \u001b[49m\u001b[43mcolumns\u001b[49m\u001b[38;5;241;43m=\u001b[39;49m\u001b[43mcolumns\u001b[49m\u001b[43m,\u001b[49m\n\u001b[0;32m   3911\u001b[0m \u001b[43m    \u001b[49m\u001b[43mindex_label\u001b[49m\u001b[38;5;241;43m=\u001b[39;49m\u001b[43mindex_label\u001b[49m\u001b[43m,\u001b[49m\n\u001b[0;32m   3912\u001b[0m \u001b[43m    \u001b[49m\u001b[43mmode\u001b[49m\u001b[38;5;241;43m=\u001b[39;49m\u001b[43mmode\u001b[49m\u001b[43m,\u001b[49m\n\u001b[0;32m   3913\u001b[0m \u001b[43m    \u001b[49m\u001b[43mchunksize\u001b[49m\u001b[38;5;241;43m=\u001b[39;49m\u001b[43mchunksize\u001b[49m\u001b[43m,\u001b[49m\n\u001b[0;32m   3914\u001b[0m \u001b[43m    \u001b[49m\u001b[43mquotechar\u001b[49m\u001b[38;5;241;43m=\u001b[39;49m\u001b[43mquotechar\u001b[49m\u001b[43m,\u001b[49m\n\u001b[0;32m   3915\u001b[0m \u001b[43m    \u001b[49m\u001b[43mdate_format\u001b[49m\u001b[38;5;241;43m=\u001b[39;49m\u001b[43mdate_format\u001b[49m\u001b[43m,\u001b[49m\n\u001b[0;32m   3916\u001b[0m \u001b[43m    \u001b[49m\u001b[43mdoublequote\u001b[49m\u001b[38;5;241;43m=\u001b[39;49m\u001b[43mdoublequote\u001b[49m\u001b[43m,\u001b[49m\n\u001b[0;32m   3917\u001b[0m \u001b[43m    \u001b[49m\u001b[43mescapechar\u001b[49m\u001b[38;5;241;43m=\u001b[39;49m\u001b[43mescapechar\u001b[49m\u001b[43m,\u001b[49m\n\u001b[0;32m   3918\u001b[0m \u001b[43m    \u001b[49m\u001b[43mstorage_options\u001b[49m\u001b[38;5;241;43m=\u001b[39;49m\u001b[43mstorage_options\u001b[49m\u001b[43m,\u001b[49m\n\u001b[0;32m   3919\u001b[0m \u001b[43m\u001b[49m\u001b[43m)\u001b[49m\n",
      "File \u001b[1;32m~\\AppData\\Roaming\\Python\\Python312\\site-packages\\pandas\\io\\formats\\format.py:1152\u001b[0m, in \u001b[0;36mDataFrameRenderer.to_csv\u001b[1;34m(self, path_or_buf, encoding, sep, columns, index_label, mode, compression, quoting, quotechar, lineterminator, chunksize, date_format, doublequote, escapechar, errors, storage_options)\u001b[0m\n\u001b[0;32m   1131\u001b[0m     created_buffer \u001b[38;5;241m=\u001b[39m \u001b[38;5;28;01mFalse\u001b[39;00m\n\u001b[0;32m   1133\u001b[0m csv_formatter \u001b[38;5;241m=\u001b[39m CSVFormatter(\n\u001b[0;32m   1134\u001b[0m     path_or_buf\u001b[38;5;241m=\u001b[39mpath_or_buf,\n\u001b[0;32m   1135\u001b[0m     lineterminator\u001b[38;5;241m=\u001b[39mlineterminator,\n\u001b[1;32m   (...)\u001b[0m\n\u001b[0;32m   1150\u001b[0m     formatter\u001b[38;5;241m=\u001b[39m\u001b[38;5;28mself\u001b[39m\u001b[38;5;241m.\u001b[39mfmt,\n\u001b[0;32m   1151\u001b[0m )\n\u001b[1;32m-> 1152\u001b[0m \u001b[43mcsv_formatter\u001b[49m\u001b[38;5;241;43m.\u001b[39;49m\u001b[43msave\u001b[49m\u001b[43m(\u001b[49m\u001b[43m)\u001b[49m\n\u001b[0;32m   1154\u001b[0m \u001b[38;5;28;01mif\u001b[39;00m created_buffer:\n\u001b[0;32m   1155\u001b[0m     \u001b[38;5;28;01massert\u001b[39;00m \u001b[38;5;28misinstance\u001b[39m(path_or_buf, StringIO)\n",
      "File \u001b[1;32m~\\AppData\\Roaming\\Python\\Python312\\site-packages\\pandas\\io\\formats\\csvs.py:247\u001b[0m, in \u001b[0;36mCSVFormatter.save\u001b[1;34m(self)\u001b[0m\n\u001b[0;32m    243\u001b[0m \u001b[38;5;250m\u001b[39m\u001b[38;5;124;03m\"\"\"\u001b[39;00m\n\u001b[0;32m    244\u001b[0m \u001b[38;5;124;03mCreate the writer & save.\u001b[39;00m\n\u001b[0;32m    245\u001b[0m \u001b[38;5;124;03m\"\"\"\u001b[39;00m\n\u001b[0;32m    246\u001b[0m \u001b[38;5;66;03m# apply compression and byte/text conversion\u001b[39;00m\n\u001b[1;32m--> 247\u001b[0m \u001b[38;5;28;01mwith\u001b[39;00m \u001b[43mget_handle\u001b[49m\u001b[43m(\u001b[49m\n\u001b[0;32m    248\u001b[0m \u001b[43m    \u001b[49m\u001b[38;5;28;43mself\u001b[39;49m\u001b[38;5;241;43m.\u001b[39;49m\u001b[43mfilepath_or_buffer\u001b[49m\u001b[43m,\u001b[49m\n\u001b[0;32m    249\u001b[0m \u001b[43m    \u001b[49m\u001b[38;5;28;43mself\u001b[39;49m\u001b[38;5;241;43m.\u001b[39;49m\u001b[43mmode\u001b[49m\u001b[43m,\u001b[49m\n\u001b[0;32m    250\u001b[0m \u001b[43m    \u001b[49m\u001b[43mencoding\u001b[49m\u001b[38;5;241;43m=\u001b[39;49m\u001b[38;5;28;43mself\u001b[39;49m\u001b[38;5;241;43m.\u001b[39;49m\u001b[43mencoding\u001b[49m\u001b[43m,\u001b[49m\n\u001b[0;32m    251\u001b[0m \u001b[43m    \u001b[49m\u001b[43merrors\u001b[49m\u001b[38;5;241;43m=\u001b[39;49m\u001b[38;5;28;43mself\u001b[39;49m\u001b[38;5;241;43m.\u001b[39;49m\u001b[43merrors\u001b[49m\u001b[43m,\u001b[49m\n\u001b[0;32m    252\u001b[0m \u001b[43m    \u001b[49m\u001b[43mcompression\u001b[49m\u001b[38;5;241;43m=\u001b[39;49m\u001b[38;5;28;43mself\u001b[39;49m\u001b[38;5;241;43m.\u001b[39;49m\u001b[43mcompression\u001b[49m\u001b[43m,\u001b[49m\n\u001b[0;32m    253\u001b[0m \u001b[43m    \u001b[49m\u001b[43mstorage_options\u001b[49m\u001b[38;5;241;43m=\u001b[39;49m\u001b[38;5;28;43mself\u001b[39;49m\u001b[38;5;241;43m.\u001b[39;49m\u001b[43mstorage_options\u001b[49m\u001b[43m,\u001b[49m\n\u001b[0;32m    254\u001b[0m \u001b[43m\u001b[49m\u001b[43m)\u001b[49m \u001b[38;5;28;01mas\u001b[39;00m handles:\n\u001b[0;32m    255\u001b[0m     \u001b[38;5;66;03m# Note: self.encoding is irrelevant here\u001b[39;00m\n\u001b[0;32m    256\u001b[0m     \u001b[38;5;28mself\u001b[39m\u001b[38;5;241m.\u001b[39mwriter \u001b[38;5;241m=\u001b[39m csvlib\u001b[38;5;241m.\u001b[39mwriter(\n\u001b[0;32m    257\u001b[0m         handles\u001b[38;5;241m.\u001b[39mhandle,\n\u001b[0;32m    258\u001b[0m         lineterminator\u001b[38;5;241m=\u001b[39m\u001b[38;5;28mself\u001b[39m\u001b[38;5;241m.\u001b[39mlineterminator,\n\u001b[1;32m   (...)\u001b[0m\n\u001b[0;32m    263\u001b[0m         quotechar\u001b[38;5;241m=\u001b[39m\u001b[38;5;28mself\u001b[39m\u001b[38;5;241m.\u001b[39mquotechar,\n\u001b[0;32m    264\u001b[0m     )\n\u001b[0;32m    266\u001b[0m     \u001b[38;5;28mself\u001b[39m\u001b[38;5;241m.\u001b[39m_save()\n",
      "File \u001b[1;32m~\\AppData\\Roaming\\Python\\Python312\\site-packages\\pandas\\io\\common.py:863\u001b[0m, in \u001b[0;36mget_handle\u001b[1;34m(path_or_buf, mode, encoding, compression, memory_map, is_text, errors, storage_options)\u001b[0m\n\u001b[0;32m    858\u001b[0m \u001b[38;5;28;01melif\u001b[39;00m \u001b[38;5;28misinstance\u001b[39m(handle, \u001b[38;5;28mstr\u001b[39m):\n\u001b[0;32m    859\u001b[0m     \u001b[38;5;66;03m# Check whether the filename is to be opened in binary mode.\u001b[39;00m\n\u001b[0;32m    860\u001b[0m     \u001b[38;5;66;03m# Binary mode does not support 'encoding' and 'newline'.\u001b[39;00m\n\u001b[0;32m    861\u001b[0m     \u001b[38;5;28;01mif\u001b[39;00m ioargs\u001b[38;5;241m.\u001b[39mencoding \u001b[38;5;129;01mand\u001b[39;00m \u001b[38;5;124m\"\u001b[39m\u001b[38;5;124mb\u001b[39m\u001b[38;5;124m\"\u001b[39m \u001b[38;5;129;01mnot\u001b[39;00m \u001b[38;5;129;01min\u001b[39;00m ioargs\u001b[38;5;241m.\u001b[39mmode:\n\u001b[0;32m    862\u001b[0m         \u001b[38;5;66;03m# Encoding\u001b[39;00m\n\u001b[1;32m--> 863\u001b[0m         handle \u001b[38;5;241m=\u001b[39m \u001b[38;5;28;43mopen\u001b[39;49m\u001b[43m(\u001b[49m\n\u001b[0;32m    864\u001b[0m \u001b[43m            \u001b[49m\u001b[43mhandle\u001b[49m\u001b[43m,\u001b[49m\n\u001b[0;32m    865\u001b[0m \u001b[43m            \u001b[49m\u001b[43mioargs\u001b[49m\u001b[38;5;241;43m.\u001b[39;49m\u001b[43mmode\u001b[49m\u001b[43m,\u001b[49m\n\u001b[0;32m    866\u001b[0m \u001b[43m            \u001b[49m\u001b[43mencoding\u001b[49m\u001b[38;5;241;43m=\u001b[39;49m\u001b[43mioargs\u001b[49m\u001b[38;5;241;43m.\u001b[39;49m\u001b[43mencoding\u001b[49m\u001b[43m,\u001b[49m\n\u001b[0;32m    867\u001b[0m \u001b[43m            \u001b[49m\u001b[43merrors\u001b[49m\u001b[38;5;241;43m=\u001b[39;49m\u001b[43merrors\u001b[49m\u001b[43m,\u001b[49m\n\u001b[0;32m    868\u001b[0m \u001b[43m            \u001b[49m\u001b[43mnewline\u001b[49m\u001b[38;5;241;43m=\u001b[39;49m\u001b[38;5;124;43m\"\u001b[39;49m\u001b[38;5;124;43m\"\u001b[39;49m\u001b[43m,\u001b[49m\n\u001b[0;32m    869\u001b[0m \u001b[43m        \u001b[49m\u001b[43m)\u001b[49m\n\u001b[0;32m    870\u001b[0m     \u001b[38;5;28;01melse\u001b[39;00m:\n\u001b[0;32m    871\u001b[0m         \u001b[38;5;66;03m# Binary mode\u001b[39;00m\n\u001b[0;32m    872\u001b[0m         handle \u001b[38;5;241m=\u001b[39m \u001b[38;5;28mopen\u001b[39m(handle, ioargs\u001b[38;5;241m.\u001b[39mmode)\n",
      "\u001b[1;31mPermissionError\u001b[0m: [Errno 13] Permission denied: 'test_aggr_strat.csv'"
     ]
    }
   ],
   "source": [
    "import pandas as pd\n",
    "\n",
    "# Defining the NER pipelines with different aggregation strategies mentioned in the documentation\n",
    "# strategy \"none\" was not included as unnecessary for this task\n",
    "pipelines = {\n",
    "    \"simple\": pipeline(\"ner\", model=model, tokenizer=tokenizer, aggregation_strategy=\"simple\"),\n",
    "    \"first\": pipeline(\"ner\", model=model, tokenizer=tokenizer, aggregation_strategy=\"first\"),\n",
    "    \"average\": pipeline(\"ner\", model=model, tokenizer=tokenizer, aggregation_strategy=\"average\"),\n",
    "    \"max\": pipeline(\"ner\", model=model, tokenizer=tokenizer, aggregation_strategy=\"max\")\n",
    "}\n",
    "\n",
    "# same test file as above\n",
    "# base_dir = os.path.dirname(os.path.abspath(__file__))\n",
    "# file_path = os.path.join(base_dir, \"Data/Data/Corpus/1115688_Karla-Valguma-dienasgramatas.txt\")\n",
    "\n",
    "# Dictionaries to store locations extracted\n",
    "locations_dict = {strategy: [] for strategy in pipelines}\n",
    "location_counters = {strategy: 0 for strategy in pipelines} # Counters for locations extracted\n",
    "\n",
    "with open(file_path, \"r\", encoding=\"utf-8\") as file:\n",
    "    for line in file: # a bit more advanced looping than above\n",
    "        for strategy, nlp_pipeline in pipelines.items():\n",
    "            line_results = nlp_pipeline(line.strip())   \n",
    "            for entity in line_results:  \n",
    "                if \"entity_group\" in entity and entity[\"entity_group\"] == \"LOC\":\n",
    "                    locations_dict[strategy].append(entity[\"word\"])  # Add word to the list\n",
    "                    location_counters[strategy] += 1  # Increment the counter\n",
    "\n",
    "# Finding the maximum length of the lists in locations_dict\n",
    "location_length = max(len(locations) for locations in locations_dict.values())\n",
    "\n",
    "# Padding shorter lists with None to match the maximum length\n",
    "for locations in locations_dict.values():\n",
    "    while len(locations) < location_length:\n",
    "        locations.append(None)\n",
    "\n",
    "# DataFrame to display the locations extracted for analysis\n",
    "df = pd.DataFrame(locations_dict)\n",
    "\n",
    "# Print the DataFrame and location counters\n",
    "print(\"Locations extracted by each pipeline:\")\n",
    "print(df)\n",
    "print(\"\\nLocation Counters:\")\n",
    "for strategy, count in location_counters.items():\n",
    "    print(f\"{strategy}: {count}\")\n",
    "\n",
    "df.to_csv(\"test_aggr_strat.csv\", encoding=\"utf-8\", index=False) # the df is too long, so it is saved to a csv file for easier viewing"
   ]
  },
  {
   "cell_type": "markdown",
   "metadata": {},
   "source": [
    "The results indicates a significant disparity between strategies, which is another argument that justifies the experiment. An analysis of results indicates the superiority of strategy \"simple\" and \"first\". Each of them have their drawbacks. For the further work the aggregation strategy \"first\" will be used.\n",
    "\n",
    "However, even this aggregation method has limitations that will have to be taken into account during the work with the corpus. Among problems are:  \n",
    "*  ambiguities due to morphological richness and grammar structure of the Latvian language. E.g. mentions of person \"Viļņa\"/\"Viļņu\" are likely identified as the location due to the city with this name and the very fact that this person is the target of visits;\n",
    "* unorthodox style or language use - here, the chaining of words yields both correct results (e.g. \"Kūdrupē\") but tend to concatenate location names even when that is not neccessary (e.g. \"Jaunsileniekudzirnavas\"). Abbreviations play some role too, with some of them likely asking for a closer look before correct attributions (e.g. \"Mžs. Pelēcis\" likely means \"Mežsaimniecības Pelēcis\"). On the whole, however, such entities are acceptable as candidates;\n",
    "* since the unprocessed corpus is used, punctuations, which likely had a positive role in entity extraction, sometimes stay affixed to the entity. While this could be beneficial in some cases, this will be fixed at later stages of the project. \n",
    "*  Model's behavior, that cannot be explained without deeper analysis. Here, the person's names \"Ilona\" and \"Vilnis\" (in various morphological forms and not only - this person exists also as \"Vilnis B\", for example) can be mention as the example of often-mislabeled entity. There also are locations that likely should be labeled as organizations (\"Literatūras un mākslas muzejā\") or whose interpretation would depend upon strict entity definitions.\n",
    "* ortographic mistakas in location names are not a major problem. The few that exist could be both because of mistakes by the author and transcriber. Lookup at the source would be neccessary in such cases."
   ]
  },
  {
   "cell_type": "markdown",
   "metadata": {},
   "source": [
    "The total number of location entities in the file indicate the importance of this type of entity for the author. This variable will be used to identify the role of spatiality in the corpus in comparison to other entities.\n",
    "The further tactic will be extraction of all type of entities for the test file."
   ]
  },
  {
   "cell_type": "code",
   "execution_count": 13,
   "metadata": {},
   "outputs": [
    {
     "data": {
      "text/html": [
       "<pre style=\"white-space:pre;overflow-x:auto;line-height:normal;font-family:Menlo,'DejaVu Sans Mono',consolas,'Courier New',monospace\">\n",
       "Entity Counters:\n",
       "</pre>\n"
      ],
      "text/plain": [
       "\n",
       "Entity Counters:\n"
      ]
     },
     "metadata": {},
     "output_type": "display_data"
    },
    {
     "data": {
      "text/html": [
       "<pre style=\"white-space:pre;overflow-x:auto;line-height:normal;font-family:Menlo,'DejaVu Sans Mono',consolas,'Courier New',monospace\">LOC: <span style=\"color: #008080; text-decoration-color: #008080; font-weight: bold\">323</span>\n",
       "</pre>\n"
      ],
      "text/plain": [
       "LOC: \u001b[1;36m323\u001b[0m\n"
      ]
     },
     "metadata": {},
     "output_type": "display_data"
    },
    {
     "data": {
      "text/html": [
       "<pre style=\"white-space:pre;overflow-x:auto;line-height:normal;font-family:Menlo,'DejaVu Sans Mono',consolas,'Courier New',monospace\">PER: <span style=\"color: #008080; text-decoration-color: #008080; font-weight: bold\">717</span>\n",
       "</pre>\n"
      ],
      "text/plain": [
       "PER: \u001b[1;36m717\u001b[0m\n"
      ]
     },
     "metadata": {},
     "output_type": "display_data"
    },
    {
     "data": {
      "text/html": [
       "<pre style=\"white-space:pre;overflow-x:auto;line-height:normal;font-family:Menlo,'DejaVu Sans Mono',consolas,'Courier New',monospace\">ORG: <span style=\"color: #008080; text-decoration-color: #008080; font-weight: bold\">76</span>\n",
       "</pre>\n"
      ],
      "text/plain": [
       "ORG: \u001b[1;36m76\u001b[0m\n"
      ]
     },
     "metadata": {},
     "output_type": "display_data"
    }
   ],
   "source": [
    "from transformers import pipeline\n",
    "import pandas as pd\n",
    "\n",
    "# Initialize the NER pipeline\n",
    "pipeline_first = pipeline(\"ner\", model=model, tokenizer=tokenizer, aggregation_strategy=\"first\")\n",
    "\n",
    "# same test file as above\n",
    "# base_dir = os.path.dirname(os.path.abspath(__file__))\n",
    "# file_path = os.path.join(base_dir, \"Data/Data/Corpus/1115688_Karla-Valguma-dienasgramatas.txt\")\n",
    "\n",
    "\n",
    "# Defining entity types and counters\n",
    "entities_dict = {entity_type: [] for entity_type in [\"LOC\", \"PER\", \"ORG\"]}\n",
    "entity_counters = {entity_type: 0 for entity_type in entities_dict}\n",
    "\n",
    "# Reading the text file\n",
    "with open(file_path, \"r\", encoding=\"utf-8\") as file:\n",
    "    text_lines = file.readlines()\n",
    "\n",
    "# Processing each line of the text. NB! The code in final experiments was different\n",
    "colored_lines = []\n",
    "for line in text_lines:\n",
    "    line_results = pipeline_first(line.strip())\n",
    "    colored_line = line\n",
    "    for entity in line_results:\n",
    "        if \"entity_group\" in entity and entity[\"entity_group\"] in entities_dict:\n",
    "            start_idx = entity[\"start\"]\n",
    "            end_idx = entity[\"end\"]\n",
    "            entity_type = entity[\"entity_group\"]\n",
    "            colored_entity = \"{\\\\colortbl ;\\\\red255\\\\green0\\\\blue0;\\\\red0\\\\green255\\\\blue0;\\\\red0\\\\green0\\\\blue255;}\" + \\\n",
    "                             \"\\\\cf\" + str(1 if entity_type == \"LOC\" else 2 if entity_type == \"PER\" else 3) + \\\n",
    "                             f\" {entity['word']}\"  \n",
    "            # Replacing the entity with a colored version in the text line\n",
    "            colored_line = colored_line[:start_idx] + colored_entity + colored_line[end_idx:]\n",
    "            entity_counters[entity_type] += 1\n",
    "    colored_lines.append(colored_line.strip())  # Appending colored line\n",
    "\n",
    "# Saving the modified text with colored entities into a new RTF file\n",
    "output_file_path = \"color_test.rtf\"\n",
    "with open(output_file_path, \"w\", encoding=\"utf-8\") as file:\n",
    "    file.write(\"{\\\\rtf1\\\\ansi\\\\deff0\" + \"\\n\".join(colored_lines) + \"}\")\n",
    "\n",
    "# Print entity counts\n",
    "print(\"\\nEntity Counters:\")\n",
    "for entity_type, count in entity_counters.items():\n",
    "    print(f\"{entity_type}: {count}\")\n"
   ]
  },
  {
   "cell_type": "markdown",
   "metadata": {},
   "source": [
    "This gives a comparative look at the importances of entities in the text. The lists of organizations and persons will not be analysed in detail. One apparent issue are  the group entities consisting of a toponym and an insitution or establishment, e.g. \"Mālupes veikalā\". The algorythm and the aggregation method selected treats some of such entities as locations, and some - as organizations. Overall, the algorithm seems to work well in providing entity candidates.\n",
    "\n",
    "The dataframe created will be source for some preprocessing that is needed for further analysis. Extracted entities will be stemmed, unnecessary signs - removed. Goal is to gain (A.) unique instances and their count; and (B.) frequencies of the instances in the text. For this, the text also will be processed, using NLTK library with the removal of stopwords. Such frequencies wil calculated both for each lemmatized entity instance and their aggreagions. \n",
    "\n",
    "If first could provide the relevance of specific locations (or person names or organizations) within the text, the second form could indicate the relevance of the specific and named spatial manifestations for the author both in comparison with organizations and persons, and against other texts. Thus, the frequences could provide a way for corpus-wide comparisons and give important qualitative insights. Furthermore, it will provide an opportunity for selecting texts for the close reading."
   ]
  },
  {
   "cell_type": "code",
   "execution_count": 72,
   "metadata": {},
   "outputs": [
    {
     "name": "stdout",
     "output_type": "stream",
     "text": [
      "Preprocessing completed and saved to test_all_entities_proc.csv\n"
     ]
    }
   ],
   "source": [
    "import csv\n",
    "import re\n",
    "\n",
    "input_csv = \"test_all_entities.csv\"\n",
    "output_csv = \"test_all_entities_proc.csv\"\n",
    "\n",
    "# Defining a function to preprocess text\n",
    "def preprocess_text(text):\n",
    "    # Removing punctuation from the csv - they resulted from aggregation strategy chosen\n",
    "    text = re.sub(r'[^\\w\\s]', '', text)\n",
    "    text = re.sub(r'\\s+', ' ', text.strip())\n",
    "    return text\n",
    "\n",
    "with open(input_csv, 'r', newline='', encoding='utf-8') as input_file, \\\n",
    "     open(output_csv, 'w', newline='', encoding='utf-8') as output_file:\n",
    "    \n",
    "    csv_reader = csv.reader(input_file)\n",
    "    csv_writer = csv.writer(output_file)\n",
    "    \n",
    "    for row in csv_reader:\n",
    "        processed_row = []\n",
    "        column_index = 0\n",
    "        for cell in row:\n",
    "            processed_cell = preprocess_text(cell)\n",
    "            if processed_cell:\n",
    "                while len(processed_row) < column_index + 1:\n",
    "                    processed_row.append('')\n",
    "                processed_row[column_index] = processed_cell\n",
    "            column_index += 1\n",
    "        \n",
    "        csv_writer.writerow(processed_row)\n",
    "\n",
    "print(\"Results saved to\", output_csv)\n"
   ]
  },
  {
   "cell_type": "markdown",
   "metadata": {},
   "source": [
    "Checking the lengths of the test file in Regular and Lemmatized Corpus."
   ]
  },
  {
   "cell_type": "code",
   "execution_count": 15,
   "metadata": {},
   "outputs": [
    {
     "name": "stdout",
     "output_type": "stream",
     "text": [
      "Total tokens in original text: 22651\n",
      "Total tokens in regular corpus text: 16469\n",
      "Total tokens in lemmatized corpus text: 16550\n"
     ]
    },
    {
     "name": "stderr",
     "output_type": "stream",
     "text": [
      "<>:7: SyntaxWarning: invalid escape sequence '\\.'\n",
      "<>:7: SyntaxWarning: invalid escape sequence '\\.'\n",
      "C:\\Users\\papel\\AppData\\Local\\Temp\\ipykernel_26788\\2410636569.py:7: SyntaxWarning: invalid escape sequence '\\.'\n",
      "  corpus_reader = PlaintextCorpusReader(corpus_root, '.*\\.txt')\n"
     ]
    }
   ],
   "source": [
    "from nltk.corpus import PlaintextCorpusReader\n",
    "base_path = os.path.dirname(__file__)\n",
    "\n",
    "# Define the paths relative to the script's location\n",
    "corpus_root = os.path.join(base_path, \"Data\", \"Data\", \"Corpus\")\n",
    "file_path_reg = os.path.join(base_path, \"Data\", \"Regular_Corpus\", \"R_1115688_Karla-Valguma-dienasgramatas.txt\")\n",
    "file_path_lemm = os.path.join(base_path, \"Data\", \"Lemmatized_Corpus\", \"L_1115688_Karla-Valguma-dienasgramatas.txt\")\n",
    "\n",
    "corpus_reader = PlaintextCorpusReader(corpus_root, '.*\\.txt')\n",
    "\n",
    "words_original = corpus_reader.words(file_path)\n",
    "words_reg = corpus_reader.words(file_path_reg)\n",
    "words_lemm = corpus_reader.words(file_path_lemm)\n",
    "\n",
    "total_tokens_original = len(words_original)\n",
    "total_tokens_reg = len(words_reg)\n",
    "total_tokens_lemm = len(words_lemm)\n",
    "\n",
    "print(f\"Total tokens in original text: {total_tokens_original}\")\n",
    "print(f\"Total tokens in regular corpus text: {total_tokens_reg}\")\n",
    "print(f\"Total tokens in lemmatized corpus text: {total_tokens_lemm}\")\n"
   ]
  },
  {
   "cell_type": "markdown",
   "metadata": {},
   "source": [
    "Preparing for the main experiments included counting tokens in the each file from the prepared corpora."
   ]
  },
  {
   "cell_type": "code",
   "execution_count": 67,
   "metadata": {},
   "outputs": [
    {
     "name": "stderr",
     "output_type": "stream",
     "text": [
      "<>:26: SyntaxWarning: invalid escape sequence '\\.'\n",
      "<>:26: SyntaxWarning: invalid escape sequence '\\.'\n",
      "C:\\Users\\papel\\AppData\\Local\\Temp\\ipykernel_22880\\1737195871.py:26: SyntaxWarning: invalid escape sequence '\\.'\n",
      "  corpus_reader = PlaintextCorpusReader(corpus_root, '.*\\.txt')\n"
     ]
    },
    {
     "name": "stdout",
     "output_type": "stream",
     "text": [
      "                                             Filename  Original  Regular  \\\n",
      "0            1115688_Karla-Valguma-dienasgramatas.txt     22651    16469   \n",
      "1           1115696_Edgara-Reinsona-dienasgramata.txt      8006     6932   \n",
      "2           1117599_Irmas-Viksninas-dienasgramata.txt     20876    16168   \n",
      "3   1117599_nezinamas-rigas-skolnieces-dienasgrama...     20876    16168   \n",
      "4      1117608_Dainas-Rozenblates-Atminu-zimejumi.txt     59885    49867   \n",
      "..                                                ...       ...      ...   \n",
      "90                   1797583_Karla-Sabaka-atminas.txt       598      506   \n",
      "91  1799971_Izraksti-no-Karla-Paucisa-dienasgramat...     13107     9570   \n",
      "92  1846318_Katrines-Butenieces-dienasgramata-no-1...     56857    45872   \n",
      "93  1900122_Karla-Vesmana-vestules-un-Annas-Rosman...     18093    14300   \n",
      "94                    1910061_Olgas-Veges-atminas.txt         4        2   \n",
      "\n",
      "    Lemmatized  \n",
      "0        16550  \n",
      "1         6931  \n",
      "2        16167  \n",
      "3        16167  \n",
      "4        49867  \n",
      "..         ...  \n",
      "90         506  \n",
      "91        9568  \n",
      "92       45872  \n",
      "93       14371  \n",
      "94           2  \n",
      "\n",
      "[95 rows x 4 columns]\n"
     ]
    }
   ],
   "source": [
    "# import os\n",
    "import pandas as pd\n",
    "from nltk.corpus import PlaintextCorpusReader\n",
    "\n",
    "def calculate_token_counts(corpus_root, corpus_reg_root, corpus_lemm_root):\n",
    "    # Getting list of files in the original, regular, and lemmatized corpus directories\n",
    "    original_files = os.listdir(corpus_root)\n",
    "    reg_files = os.listdir(corpus_reg_root)\n",
    "    lemm_files = os.listdir(corpus_lemm_root)\n",
    "\n",
    "    # Initializing lists to store filenames and token counts\n",
    "    filenames = []\n",
    "    token_counts_original = []\n",
    "    token_counts_reg = []\n",
    "    token_counts_lemm = []\n",
    "\n",
    "    # Iterateing through files in original corpus directory\n",
    "    for orig_filename in original_files:\n",
    "        # Extracting the seven-number combo from the filename\n",
    "        text_number = orig_filename.split('_')[0]\n",
    "\n",
    "        # Checking if corresponding regular and lemmatized files exist\n",
    "        for reg_filename, lemm_filename in zip(reg_files, lemm_files):\n",
    "            if text_number in reg_filename and text_number in lemm_filename:\n",
    "                # Initializing corpus reader\n",
    "                corpus_reader = PlaintextCorpusReader(corpus_root, '.*\\.txt')\n",
    "\n",
    "                # Getting tokens from original, regular, and lemmatized versions\n",
    "                words_original = corpus_reader.words(os.path.join(corpus_root, orig_filename))\n",
    "                words_reg = corpus_reader.words(os.path.join(corpus_reg_root, reg_filename))\n",
    "                words_lemm = corpus_reader.words(os.path.join(corpus_lemm_root, lemm_filename))\n",
    "\n",
    "                # Append filenames and token counts\n",
    "                filenames.append(orig_filename)\n",
    "                token_counts_original.append(len(words_original))\n",
    "                token_counts_reg.append(len(words_reg))\n",
    "                token_counts_lemm.append(len(words_lemm))\n",
    "                break  # Stop searching once a match is found\n",
    "\n",
    "    # Dataframe for storing results\n",
    "    data = {\n",
    "        'Filename': filenames,\n",
    "        'Original': token_counts_original,\n",
    "        'Regular': token_counts_reg,\n",
    "        'Lemmatized': token_counts_lemm\n",
    "    }\n",
    "    df = pd.DataFrame(data)\n",
    "    return df\n",
    "\n",
    "# Example usage\n",
    "base_path = os.path.dirname(__file__)\n",
    "\n",
    "corpus_root = os.path.join(base_path, \"Data\", \"Data\", \"Corpus\")\n",
    "corpus_reg_root = os.path.join(base_path, \"Data\", \"Regular_Corpus\")\n",
    "corpus_lemm_root = os.path.join(base_path, \"Data\", \"Lemmatized_Corpus\")\n",
    "\n",
    "token_results_df = calculate_token_counts(corpus_root, corpus_reg_root, corpus_lemm_root)\n",
    "print(token_results_df)\n"
   ]
  },
  {
   "cell_type": "code",
   "execution_count": 68,
   "metadata": {},
   "outputs": [],
   "source": [
    "# Dataframe looks good, so it can be saved to CSV\n",
    "token_results_df.to_csv(\"token_results_df.csv\", index=False)"
   ]
  },
  {
   "cell_type": "markdown",
   "metadata": {},
   "source": [
    "Testing out the counting of frequencies of entities against the tokens in each file."
   ]
  },
  {
   "cell_type": "code",
   "execution_count": 76,
   "metadata": {},
   "outputs": [
    {
     "name": "stdout",
     "output_type": "stream",
     "text": [
      "LOC_freq: 0.4505\n",
      "PER_freq: 0.9986\n",
      "ORG_freq: 0.1032\n"
     ]
    }
   ],
   "source": [
    "import csv\n",
    "\n",
    "base_dir = os.path.dirname(os.path.abspath(__file__))\n",
    "\n",
    "input_csv = os.path.join(base_dir, \"NER-experiments/test_all_entities_proc.csv\")\n",
    "\n",
    "def count_relative_frequencies(input_csv): # Function to count frequencies and calculate relative frequencies\n",
    "    column_counts = {} # Dictionary to store valid values\n",
    "    total_tokens_reg = 0\n",
    "    \n",
    "    with open(input_csv, 'r', newline='', encoding='utf-8') as file:\n",
    "        csv_reader = csv.reader(file)\n",
    "        \n",
    "        header = next(csv_reader)\n",
    "        \n",
    "        for col in header:\n",
    "            column_counts[col] = 0 # For counting the number of non-empty values in each column\n",
    "        \n",
    "        for row in csv_reader:\n",
    "            total_tokens_reg+= 1\n",
    "            for col, value in zip(header, row): # Looping through the columns and values in the row\n",
    "                if value.strip(): # Checking if the value is not empty and takes off any whitespace\n",
    "                    column_counts[col] += 1\n",
    "    \n",
    "    # Calculating relative frequencies for tokens in the regular corpus\n",
    "    relative_frequencies = {col + \"_freq\": count / total_tokens_reg for col, count in column_counts.items()}\n",
    "    \n",
    "    return relative_frequencies\n",
    "\n",
    "result = count_relative_frequencies(input_csv)\n",
    "\n",
    "for column, relative_frequency in result.items():\n",
    "    print(f\"{column}: {relative_frequency:.4f}\") # decided to stick with 4 decimal places\n"
   ]
  },
  {
   "cell_type": "markdown",
   "metadata": {},
   "source": [
    "Testing out the visual plot of frequencies on one file."
   ]
  },
  {
   "cell_type": "code",
   "execution_count": 78,
   "metadata": {},
   "outputs": [
    {
     "data": {
      "image/png": "[encoded data removed]",
      "text/plain": [
       "<Figure size 1000x400 with 1 Axes>"
      ]
     },
     "metadata": {},
     "output_type": "display_data"
    }
   ],
   "source": [
    "import matplotlib.pyplot as plt\n",
    "import numpy as np\n",
    "\n",
    "#base_dir = os.path.dirname(os.path.abspath(__file__))\n",
    "#input_csv = os.path.join(base_dir, \"NER-experiments/test_all_entities_proc.csv\")\n",
    "\n",
    "result = count_relative_frequencies(input_csv)\n",
    "\n",
    "\n",
    "plt.figure(figsize=(10, 4))  \n",
    "\n",
    "total_sum = sum(result.values())\n",
    "\n",
    "filenames = list(result.keys())\n",
    "\n",
    "colors = ['brown', 'green', 'blue']\n",
    "\n",
    "bottom = 0  \n",
    "for i, filename in enumerate(result.keys()):\n",
    "    value = result[filename]\n",
    "    plt.barh(0, value / total_sum * 100, left=bottom, color=colors[i], label=filename)\n",
    "    bottom += np.array(value / total_sum * 100)\n",
    "\n",
    "# Adding labels and title\n",
    "plt.xlabel('Proportion (%)')\n",
    "plt.yticks([])  # Hide y-axis ticks and labels\n",
    "plt.title('Proportion of Location/Person/Organisation Values in Regular Corpus Texts')\n",
    "\n",
    "# Show plot\n",
    "plt.legend()\n",
    "plt.tight_layout()\n",
    "plt.show()\n"
   ]
  },
  {
   "cell_type": "markdown",
   "metadata": {},
   "source": [
    "Some experiments followed on stemming tactics."
   ]
  },
  {
   "cell_type": "code",
   "execution_count": 1,
   "metadata": {},
   "outputs": [
    {
     "name": "stdout",
     "output_type": "stream",
     "text": [
      "Defaulting to user installation because normal site-packages is not writeable\n",
      "Requirement already satisfied: LatvianStemmer in c:\\users\\papel\\appdata\\roaming\\python\\python312\\site-packages (1.0.2)\n"
     ]
    }
   ],
   "source": [
    "! pip install LatvianStemmer"
   ]
  },
  {
   "cell_type": "code",
   "execution_count": 6,
   "metadata": {},
   "outputs": [
    {
     "name": "stdout",
     "output_type": "stream",
     "text": [
      "Alūksne: Alūksn\n",
      "Rūjiena: Rūjien\n",
      "Rīga: Rīg\n",
      "Kolberģi: Kolberģ\n"
     ]
    }
   ],
   "source": [
    "import LatvianStemmer\n",
    "print('Alūksne:', LatvianStemmer.stem('Alūksne'))\n",
    "print('Rūjiena:', LatvianStemmer.stem('Rūjiena'))\n",
    "print('Rīga:', LatvianStemmer.stem('Rīga'))\n",
    "print('Kolberģi:', LatvianStemmer.stem('Kolberģi'))"
   ]
  },
  {
   "cell_type": "markdown",
   "metadata": {},
   "source": [
    "I also wanted to understand, if stemming could help to approximate the most popular entities."
   ]
  },
  {
   "cell_type": "code",
   "execution_count": 30,
   "metadata": {},
   "outputs": [
    {
     "name": "stdout",
     "output_type": "stream",
     "text": [
      "    Stemmed Word\n",
      "0        Kolberģ\n",
      "1         Alsviķ\n",
      "2       Krejotav\n",
      "3         Alūksn\n",
      "4         Alūksn\n",
      "..           ...\n",
      "318         Taid\n",
      "319          Pol\n",
      "320       Alūksn\n",
      "321     Krejotav\n",
      "322       Alūksn\n",
      "\n",
      "[323 rows x 1 columns]\n",
      "Number of stemmed units: 323\n",
      "Unique stemmed units: 118\n",
      "Krejotav\t19.81%\n",
      "Alūksn\t19.2%\n",
      "Matīsen\t4.95%\n",
      "Rīg\t4.64%\n",
      "Kolberģ\t4.33%\n",
      "PSRS\t2.17%\n",
      "Tals\t1.55%\n",
      "Dzelzav\t1.24%\n",
      "Mālup\t1.24%\n",
      "Brenc\t1.24%\n",
      "Visikum\t1.24%\n",
      "Alsviķ\t0.93%\n",
      "Viln\t0.93%\n",
      "Mārkaln\t0.62%\n",
      "Ilon\t0.62%\n",
      "Maskav\t0.62%\n",
      "Francij\t0.62%\n",
      "Ērģeneskap\t0.62%\n",
      "kap\t0.62%\n",
      "Tarv\t0.62%\n",
      "Velt\t0.62%\n",
      "Balv\t0.62%\n",
      "Družb\t0.62%\n",
      "Norvēģij\t0.62%\n",
      "Bej\t0.62%\n",
      "Vaiņod\t0.62%\n",
      "Kanād\t0.31%\n",
      "Bērziņviln\t0.31%\n",
      "Kalnin\t0.31%\n",
      "Dain\t0.31%\n",
      "Igaunij\t0.31%\n",
      "Latvij\t0.31%\n",
      "Met\t0.31%\n",
      "Tucen\t0.31%\n",
      "Baltaispurv\t0.31%\n",
      "Vilkakakt\t0.31%\n",
      "Akavīn\t0.31%\n",
      "Jaunsileniekudzirnav\t0.31%\n",
      "Jaunkursīš\t0.31%\n",
      "Veckursīš\t0.31%\n",
      "MžsPelēc\t0.31%\n",
      "Birut\t0.31%\n",
      "Guntakap\t0.31%\n",
      "Valk\t0.31%\n",
      "Ērģen\t0.31%\n",
      "Ape\t0.31%\n",
      "ViļņaB\t0.31%\n",
      "Lāčudārz\t0.31%\n",
      "Alūkns\t0.31%\n",
      "Līvān\t0.31%\n",
      "Tukumastacij\t0.31%\n",
      "Alūk\t0.31%\n",
      "Cēsucel\t0.31%\n",
      "Alūksnikapsēt\t0.31%\n",
      "Liepn\t0.31%\n",
      "Veģ\t0.31%\n",
      "USA\t0.31%\n",
      "Viļņašķūn\t0.31%\n",
      "Vuškaln\t0.31%\n",
      "Elfrīd\t0.31%\n",
      "Bērnupasaul\t0.31%\n",
      "Laipnekaln\t0.31%\n",
      "Gaiziņkaln\t0.31%\n",
      "Otesdzirnav\t0.31%\n",
      "Vīksn\t0.31%\n",
      "Somij\t0.31%\n",
      "Ezermal\t0.31%\n",
      "Sak\t0.31%\n",
      "spain\t0.31%\n",
      "Garjur\t0.31%\n",
      "Miss\t0.31%\n",
      "Vastselīn\t0.31%\n",
      "Izraēl\t0.31%\n",
      "PMK\t0.31%\n",
      "Stend\t0.31%\n",
      "Literatūrasunmākslasmuzej\t0.31%\n",
      "Spīdol\t0.31%\n",
      "Selekcijaspietur\t0.31%\n",
      "Biķerniek\t0.31%\n",
      "Jugl\t0.31%\n",
      "Lenkav\t0.31%\n",
      "Zirnīšapurv\t0.31%\n",
      "Gulbenesiel\t0.31%\n",
      "Autoost\t0.31%\n",
      "Nāgeļapurv\t0.31%\n",
      "Sileniek\t0.31%\n",
      "Straujup\t0.31%\n",
      "Kloškinav\t0.31%\n",
      "Akavin\t0.31%\n",
      "Tūcenessil\t0.31%\n",
      "Somukap\t0.31%\n",
      "Aij\t0.31%\n",
      "ZiņģeMirdz\t0.31%\n",
      "Srenc\t0.31%\n",
      "Jurenskutilt\t0.31%\n",
      "Island\t0.31%\n",
      "Krievij\t0.31%\n",
      "Zirnīt\t0.31%\n",
      "Atmat\t0.31%\n",
      "Mālupesmežn\t0.31%\n",
      "Meten\t0.31%\n",
      "Arūbassal\t0.31%\n",
      "Antiļusal\t0.31%\n",
      "Bejaspag\t0.31%\n",
      "Āland\t0.31%\n",
      "Bērzain\t0.31%\n",
      "Liepēn\t0.31%\n",
      "Anglij\t0.31%\n",
      "Sovhoza102\t0.31%\n",
      "Tbilis\t0.31%\n",
      "Valmier\t0.31%\n",
      "Kūdrup\t0.31%\n",
      "Alūksnes1020\t0.31%\n",
      "Stūrīš\t0.31%\n",
      "ValdaSlauc\t0.31%\n",
      "Cēs\t0.31%\n",
      "Taid\t0.31%\n",
      "Pol\t0.31%\n"
     ]
    }
   ],
   "source": [
    "import pandas as pd\n",
    "import LatvianStemmer\n",
    "import nltk\n",
    "\n",
    "#base_dir = os.path.dirname(os.path.abspath(__file__))\n",
    "#input_csv = os.path.join(base_dir, \"NER-experiments/test_all_entities_proc.csv\")\n",
    "stemming_df = pd.read_csv(input_csv)\n",
    "\n",
    "# Dropping rows with NaN values in the first column, because there were empty cells\n",
    "stemming_df = stemming_df.dropna(subset=[df.columns[0]])\n",
    "\n",
    "stemmed_words = []\n",
    "for word in stemming_df.iloc[:, 0]:\n",
    "    stemmed_word = LatvianStemmer.stem(str(word))  # Converting to string to handle potential NaN values\n",
    "    stemmed_words.append(stemmed_word)\n",
    "\n",
    "# Counting the number of stemmed units\n",
    "stemmed_units_count = len(stemmed_words)\n",
    "\n",
    "locations_stemmed = pd.DataFrame({\n",
    "    'Stemmed Word': stemmed_words\n",
    "})\n",
    "\n",
    "print(locations_stemmed)\n",
    "print(\"Number of stemmed units:\", stemmed_units_count)\n",
    "print(\"Unique stemmed units:\", len(locations_stemmed['Stemmed Word'].unique()))\n",
    "\n",
    "locations_stemmed_freq = nltk.FreqDist(stemmed_words)\n",
    "locations_stemmed_freq.tabulate\n",
    "for word, freq in locations_stemmed_freq.most_common():\n",
    "    percentage = locations_stemmed_freq.freq(word) * 100 # we would get the same result with this as well: freq / len(words) * 100\n",
    "    # \\t is tabulation character, str is function for converting numbers to strings\n",
    "    print(word + '\\t' + str(round(percentage, 2)) + '%')\n"
   ]
  },
  {
   "cell_type": "markdown",
   "metadata": {},
   "source": [
    "Overall, stemming seemed good tactic that should be adopted for further automation of geocoding. However, in this project this line of work was not pursued."
   ]
  },
  {
   "cell_type": "markdown",
   "metadata": {},
   "source": [
    "Testing out the concordances"
   ]
  },
  {
   "cell_type": "code",
   "execution_count": 3,
   "metadata": {},
   "outputs": [
    {
     "name": "stdout",
     "output_type": "stream",
     "text": [
      "Displaying 15 of 31 matches:\n",
      "tikai 9os , bet mēs jau bijām atnākuši mājās . Gāju uz krejotavu . Pēc tam braucu uz slimnīcu pie Pētera . Atpakaļ tiku\n",
      "6os , jo 7os bija jāved govis `` potēt '' . Pēc tam uz krejotavu . Pēc tam salēju benzīnu mopēdā un braucu uz Alūksni .\n",
      ", 13. jūlijs Uzcēlos 7:30 . Paēdu . Nodzinu bārdu . Uz krejotavu . Lietains . Salaboju ratiņiem spieķus . Atvedu zirnāj\n",
      ". Krejotavā . Krājkasē par elektrību maksāju . Ejot uz krejotavu , saņēmu pensiju . Nesu vircu . Metu no cūku būdas mēs\n",
      "s Uzcēlos 7:30 . Nodzinu bārdu , paēdu , vedu pienu uz krejotavu . Vedu govīm zāli no āboliņa tīruma , sametu sienu šķū\n",
      "onā vecās lentes . Svētdiena , 27. jūlijs Ilona iet uz krejotavu Uzcēlos atkal ap 8iem . Paēdu . Sapļāvu , atvedu govīm\n",
      "gar malu . Trešdiena , 25. jūnijs Mamma `` brauc '' uz krejotavu katru rītu 26. , 27. , 28 . No rīta pus 8 sāku appļaut\n",
      "rtdiena , 28. augusts Uzcēlos 8os . Nodzinu bārdu . Uz krejotavu gāju ar brezenta mēteli - smidzināja lietus . Pēc tam \n",
      ", paēdu , piepumpēju ūdeni , nokāvu vistu , aizgāju uz krejotavu . Izmetu mēslus . Lasīju avīzi , salāpīju vilnas zeķes\n",
      "s pēc astoņiem . Paēdu . Piepumpēju ūdeni . Aizgāju uz krejotavu . Izmetu mēslus no cūku būdas un kūts un arī kaudzē sa\n",
      " Klausījos radio un ēdu brokastis , ūdeni pumpēju . Uz krejotavu nebija jāiet - piena maz - 2 slaukumi . Izmetu mēslus \n",
      "es `` saskaldīju '' sīkāk . Nodzinu bārdu . Aizgāju uz krejotavu . Braucu uz Alūksni ar trušādām . Nopirku plaķenes , a\n",
      "diena , 5. decembris Uzcēlos ap 9iem . Paēdu . Gāju uz krejotavu , pie Pētera un Initas . Viņa vēl bija gultā . Izmetu \n",
      "sis , kaklu pēc 3 nedēļām . Izmetu mēslus . Aizgāju uz krejotavu . Izlasīju rajona avīzi . Aizgāju un noskaņoju Laatiem\n",
      "as gaļu ar kartupeļiem . Vistu nokāvu pirms iešanas uz Krejotavu . Pirmdiena , 10. novembris Bārdu dzinu . Krejotavā . \n"
     ]
    }
   ],
   "source": [
    "#base_dir = os.path.dirname(os.path.abspath(__file__))\n",
    "\n",
    "#file_path = os.path.join(base_dir, \"Data/Data/Corpus/1115688_Karla-Valguma-dienasgramatas.txt\")\n",
    "\n",
    "with open(file_path, mode='r', encoding='utf-8') as infile:\n",
    "    reading_text = infile.read()\n",
    "reading_text = infile.read()\n",
    "infile.close()\n",
    "if reading_text[0] == '\\ufeff':\n",
    "    text = reading_text[1:]\n",
    "tokens = nltk.word_tokenize(reading_text)\n",
    "text_object = nltk.Text(tokens)\n",
    "text_object.concordance('Krejotavu', width=120, lines=15)"
   ]
  },
  {
   "cell_type": "markdown",
   "metadata": {},
   "source": [
    "Another test whose result was not implemented in the project was collocations."
   ]
  },
  {
   "cell_type": "code",
   "execution_count": 8,
   "metadata": {},
   "outputs": [
    {
     "data": {
      "text/plain": [
       "[('kapu', 'plāksnes'),\n",
       " ('plāksnes', 'projektu'),\n",
       " ('konversācijas', 'vārdnīcu'),\n",
       " ('sausos', 'zarus'),\n",
       " ('Bārdu', 'dzinu'),\n",
       " ('Izkalu', 'Vēsmai'),\n",
       " ('Nomazgāju', 'seju'),\n",
       " ('gāja', 'runčos'),\n",
       " ('sporta', 'ziņas'),\n",
       " ('kurmja', 'rakumus'),\n",
       " ('novācu', 'lopbar'),\n",
       " ('ogu', 'krūmiem'),\n",
       " ('Līdzināju', 'kurmja'),\n",
       " ('Vēsmai', 'izkapti'),\n",
       " ('Poļu', 'Martas'),\n",
       " ('zirņu', 'zupu'),\n",
       " ('dzimšanas', 'dienā'),\n",
       " ('N', 'o'),\n",
       " ('Pa', 'ceļam'),\n",
       " ('trušu', 'tēvus')]"
      ]
     },
     "execution_count": 8,
     "metadata": {},
     "output_type": "execute_result"
    }
   ],
   "source": [
    "import nltk\n",
    "from nltk.collocations import *\n",
    "collocation_finder = BigramCollocationFinder.from_words(tokens)\n",
    "ngram_measures = nltk.collocations.BigramAssocMeasures()\n",
    "collocations = collocation_finder.nbest(ngram_measures.pmi, 10)\n",
    "\n",
    "def coll(words, n, num):\n",
    "    if n == 2:\n",
    "        collocation_finder = BigramCollocationFinder.from_words(words)\n",
    "        ngram_measures = nltk.collocations.BigramAssocMeasures()\n",
    "    elif n == 3:\n",
    "        collocation_finder = TrigramCollocationFinder.from_words(words)\n",
    "        ngram_measures = nltk.collocations.TrigramAssocMeasures()\n",
    "    elif n == 4:\n",
    "        collocation_finder = QuadgramCollocationFinder.from_words(words)\n",
    "        ngram_measures = nltk.collocations.QuadgramAssocMeasures()\n",
    "    else:\n",
    "        return [] # simply returning empty list for all other n values\n",
    "    \n",
    "    collocation_finder.apply_freq_filter(3) # filtering out n-grams that occur too infrequently\n",
    "    \n",
    "    # here we define a small function for filtering the n-grams depending on their words\n",
    "    # we will request filtering out n-gram if it has a word with non-alphabetic characters\n",
    "    def filter(word):\n",
    "        return not word.isalpha() # returning True means dissalowing the n-gram\n",
    "    \n",
    "    # here we provide our filtering function to the collocation finder\n",
    "    collocation_finder.apply_word_filter(filter)\n",
    "    \n",
    "    # here we return the num \"best\" n-grams, i.e., those that scored the highest according to the used measure\n",
    "    # we can replace it with ngram_measures.raw_freq to see how the results would change if we would simply use freq\n",
    "    return collocation_finder.nbest(ngram_measures.pmi, num)\n",
    "\n",
    "coll(tokens, 2, 20)"
   ]
  },
  {
   "cell_type": "markdown",
   "metadata": {},
   "source": [
    "Similarly, lexical dispersion plot was constructed to decide its possible relevance for the corpus analysis. "
   ]
  },
  {
   "cell_type": "code",
   "execution_count": 65,
   "metadata": {},
   "outputs": [
    {
     "data": {
      "image/png": "[encoded data removed]",
      "text/plain": [
       "<Figure size 640x480 with 1 Axes>"
      ]
     },
     "metadata": {},
     "output_type": "display_data"
    }
   ],
   "source": [
    "import pandas as pd\n",
    "import nltk\n",
    "\n",
    "def dispersion_plot(text, words, ignore_case=False, title=\"Lexical Dispersion Plot\"):\n",
    "    word2y = {\n",
    "        word.casefold() if ignore_case else word: y\n",
    "        for y, word in enumerate(words)\n",
    "    }\n",
    "    xs, ys = [], []\n",
    "    for x, token in enumerate(text):\n",
    "        token = token.casefold() if ignore_case else token\n",
    "        y = word2y.get(token)\n",
    "        if y is not None:\n",
    "            xs.append(x)\n",
    "            ys.append(y)\n",
    "\n",
    "    _, ax = plt.subplots()\n",
    "    ax.plot(xs, ys, \"|\")\n",
    "    ax.set_yticks(list(range(len(words))))\n",
    "    ax.set_yticklabels(words)\n",
    "    ax.set_ylim(-1, len(words))\n",
    "    ax.set_title(title)\n",
    "    ax.set_xlabel(\"Word Offset\")\n",
    "    plt.show()  # Display the plot\n",
    "\n",
    "input_csv = \"test_all_entities.csv\"\n",
    "stemming_df = pd.read_csv(input_csv)\n",
    "\n",
    "locations_test = []\n",
    "for word in stemming_df.iloc[:, 0]:\n",
    "    if pd.isna(word):\n",
    "        continue  # Skip this word if it's NaN\n",
    "    locations = str(word[:4])\n",
    "    locations_test.append(locations)\n",
    "\n",
    "locations_test_freq = nltk.FreqDist(locations_test)\n",
    "\n",
    "common_loc = locations_test_freq.most_common(20)\n",
    "list_of_interest = [word for word, freq in common_loc]\n",
    "words_of_interest = list_of_interest[::-1]\n",
    "\n",
    "dispersion_plot(locations_test, words_of_interest)\n"
   ]
  },
  {
   "cell_type": "markdown",
   "metadata": {},
   "source": [
    "While the result seemed to be illustrative, it also shows the main problems with the extracted entities - the wrong attributions, for example. Similarly, it demonstrates the problems that stemming could not solve - the presence of the various morphological forms of the same entity."
   ]
  },
  {
   "cell_type": "markdown",
   "metadata": {},
   "source": [
    "Next, some tryouts of lemmatization followed. They did not play a significant role in the thesis."
   ]
  },
  {
   "cell_type": "code",
   "execution_count": 13,
   "metadata": {},
   "outputs": [],
   "source": [
    "import gzip\n",
    "\n",
    "base_dir = os.path.dirname(os.path.abspath(__file__))\n",
    "\n",
    "file_path = os.path.join(base_dir, \"Data/lemmatization_dictionary_lv.dat.gz\")\n",
    "\n",
    "# Opening the gzip dictionary file\n",
    "with gzip.open(file_path, 'rt', encoding='utf-8') as dictionary_file:\n",
    "    lemmatization_dictionary = {}\n",
    "    for line in dictionary_file:\n",
    "        values = line.split('\\t')\n",
    "        lemmatization_dictionary[values[0]] = values[1][:-1]"
   ]
  },
  {
   "cell_type": "code",
   "execution_count": 14,
   "metadata": {},
   "outputs": [],
   "source": [
    "def lemmatize_lv(word):\n",
    "    if word in lemmatization_dictionary:\n",
    "        return lemmatization_dictionary[word]\n",
    "    else:\n",
    "        return word"
   ]
  },
  {
   "cell_type": "code",
   "execution_count": 15,
   "metadata": {},
   "outputs": [
    {
     "name": "stdout",
     "output_type": "stream",
     "text": [
      "Rīga: Rīga\n",
      "Kolberģi: Kolberģi\n"
     ]
    }
   ],
   "source": [
    "print('Rīga:', lemmatize_lv('Rīga'))\n",
    "print('Kolberģi:', lemmatize_lv('Kolberģi'))"
   ]
  },
  {
   "cell_type": "markdown",
   "metadata": {},
   "source": [
    "The preparations for the analysis of possible influence of gender factor on named entities frequencies meant that files have to be grouped. It was done semi-manually, in four groups - Male, Female, Collective and Other."
   ]
  },
  {
   "cell_type": "code",
   "execution_count": 12,
   "metadata": {},
   "outputs": [
    {
     "name": "stdout",
     "output_type": "stream",
     "text": [
      "Category: Collective\n",
      "Category\n",
      "Collective    7\n",
      "Name: count, dtype: int64\n",
      "\n",
      "\n",
      "Category: Female\n",
      "Category\n",
      "Female    24\n",
      "Name: count, dtype: int64\n",
      "\n",
      "\n",
      "Category: Male\n",
      "Category\n",
      "Male    52\n",
      "Name: count, dtype: int64\n",
      "\n",
      "\n",
      "Category: Other\n",
      "Category\n",
      "Other    2\n",
      "Name: count, dtype: int64\n",
      "\n",
      "\n"
     ]
    }
   ],
   "source": [
    "import csv\n",
    "import pandas as pd\n",
    "\n",
    "base_dir = os.path.dirname(os.path.abspath(__file__))\n",
    "\n",
    "gender_metadata_file = os.path.join(base_dir, \"NER-experiments/gender_cat.csv\")\n",
    "\n",
    "with open(gender_metadata_file, 'r', encoding='utf-8') as csvfile:\n",
    "    reader = csv.DictReader(csvfile)\n",
    "    data = list(reader)\n",
    "\n",
    "gender_df = pd.DataFrame(data)\n",
    "\n",
    "grouped_data = gender_df.groupby('Category')\n",
    "\n",
    "for category, group in grouped_data:\n",
    "    print(\"Category:\", category)\n",
    "    category_statistics = group['Category'].value_counts()\n",
    "    print(category_statistics)\n",
    "    print(\"\\n\")\n"
   ]
  },
  {
   "cell_type": "markdown",
   "metadata": {},
   "source": [
    "The final tests concerned the extraction and highligthing of named entities, and their saving in docx and excel files. This demanded heavy help from the AI tools."
   ]
  },
  {
   "cell_type": "code",
   "execution_count": 22,
   "metadata": {},
   "outputs": [
    {
     "name": "stdout",
     "output_type": "stream",
     "text": [
      "Requirement already satisfied: python-docx in c:\\program files\\python312\\lib\\site-packages (1.1.2)\n",
      "Requirement already satisfied: lxml>=3.1.0 in c:\\program files\\python312\\lib\\site-packages (from python-docx) (5.2.1)\n",
      "Requirement already satisfied: typing-extensions>=4.9.0 in c:\\users\\papel\\appdata\\roaming\\python\\python312\\site-packages (from python-docx) (4.9.0)\n"
     ]
    }
   ],
   "source": [
    "! pip install python-docx"
   ]
  },
  {
   "cell_type": "code",
   "execution_count": 38,
   "metadata": {},
   "outputs": [
    {
     "name": "stdout",
     "output_type": "stream",
     "text": [
      "Collecting XlsxWriter\n",
      "  Downloading XlsxWriter-3.2.0-py3-none-any.whl.metadata (2.6 kB)\n",
      "Downloading XlsxWriter-3.2.0-py3-none-any.whl (159 kB)\n",
      "   ---------------------------------------- 0.0/159.9 kB ? eta -:--:--\n",
      "   -- ------------------------------------- 10.2/159.9 kB ? eta -:--:--\n",
      "   --------- ----------------------------- 41.0/159.9 kB 495.5 kB/s eta 0:00:01\n",
      "   ---------------------------------------- 159.9/159.9 kB 1.4 MB/s eta 0:00:00\n",
      "Installing collected packages: XlsxWriter\n",
      "Successfully installed XlsxWriter-3.2.0\n"
     ]
    }
   ],
   "source": [
    "! pip install XlsxWriter"
   ]
  },
  {
   "cell_type": "code",
   "execution_count": 40,
   "metadata": {},
   "outputs": [
    {
     "name": "stdout",
     "output_type": "stream",
     "text": [
      "Output saved as 'diary_labeled.docx'.\n",
      "Entity Counters:\n",
      "LOC: 323\n",
      "PER: 717\n",
      "ORG: 76\n",
      "Entities saved to 'entities.xlsx' Excel file.\n"
     ]
    }
   ],
   "source": [
    "from transformers import pipeline\n",
    "from docx import Document as DocxDocument\n",
    "import docx.shared\n",
    "import pandas as pd\n",
    "\n",
    "# Initializing NER pipeline\n",
    "pipeline_first = pipeline(\"ner\", model=model, tokenizer=tokenizer, aggregation_strategy=\"first\")\n",
    "\n",
    "base_dir = os.path.dirname(os.path.abspath(__file__))\n",
    "\n",
    "file_path = os.path.join(base_dir, \"Data/Data/Corpus/1115688_Karla-Valguma-dienasgramatas.txt\")\n",
    "\n",
    "with open(file_path, \"r\", encoding=\"utf-8\") as file:\n",
    "    text_lines = file.readlines()\n",
    "\n",
    "# Defining colors for each entity type\n",
    "entity_colors = {\n",
    "    \"LOC\": \"75a65d\",  # Light Green\n",
    "    \"PER\": \"0000FF\",  # Blue\n",
    "    \"ORG\": \"FF0000\"   # Red\n",
    "}\n",
    "doc = DocxDocument()\n",
    "\n",
    "# Counters will help to understant if all entities are processed; for the final report this may not be necessary\n",
    "entity_counters = {entity_type: 0 for entity_type in entity_colors.keys()}\n",
    "\n",
    "# List to store entities; important for storing the data for manual work\n",
    "entity_data = []\n",
    "\n",
    "# Main loop to process text and colorize entities\n",
    "for line in text_lines:\n",
    "    paragraph = doc.add_paragraph()\n",
    "    last_entity_end = 0  # Tracking of the end index of the last entity\n",
    "\n",
    "    # Getting of the entities for the current line\n",
    "    line_results = pipeline_first(line.strip())\n",
    "\n",
    "    if line_results:\n",
    "        for idx, entity in enumerate(line_results):\n",
    "            entity_start_index = entity[\"start\"]\n",
    "            entity_end_index = entity[\"end\"]\n",
    "            entity_text = entity[\"word\"]\n",
    "            entity_type = entity[\"entity_group\"]\n",
    "            color = entity_colors.get(entity_type, \"000000\")  # Default color to black if not specified\n",
    "\n",
    "            # Add non-entity text between entities\n",
    "            non_entity_text = line[last_entity_end:entity_start_index]\n",
    "            if non_entity_text:\n",
    "                paragraph.add_run(non_entity_text + \" \")\n",
    "\n",
    "            # Adding the entity with colorization and bold font\n",
    "            run = paragraph.add_run(entity_text)\n",
    "            run.font.color.rgb = docx.shared.RGBColor(int(color[:2], 16),\n",
    "                                                      int(color[2:4], 16),\n",
    "                                                      int(color[4:], 16))\n",
    "            run.bold = True  # Set bold font for entity\n",
    "\n",
    "            # Adding entity type after entity in smaller font\n",
    "            entity_type_run = paragraph.add_run(f\" {entity_type.upper()}\")\n",
    "            entity_type_run.font.size = docx.shared.Pt(8)\n",
    "            entity_type_run.font.bold = True\n",
    "\n",
    "            # Update entity counters\n",
    "            entity_counters[entity_type] += 1\n",
    "\n",
    "            # Update last_entity_end index\n",
    "            last_entity_end = entity_end_index\n",
    "\n",
    "            # Appending entity data for the current line\n",
    "            entity_data.append([entity_text, entity_type.upper(), \"\", \"\"])  # Added empty columns for Correct NE and Comment\n",
    "\n",
    "            # Adding whitespace after entity type if it's not the last one in the line\n",
    "            if idx < len(line_results) - 1:\n",
    "                paragraph.add_run(\" \")\n",
    "\n",
    "        # Adding any remaining non-entity text after the last entity\n",
    "        if last_entity_end < len(line):\n",
    "            remaining_text = line[last_entity_end:]\n",
    "            paragraph.add_run(remaining_text)\n",
    "    else:\n",
    "        paragraph.add_run(line)  # If no entities are found, line will be saved as it is\n",
    "\n",
    "# Saving the document\n",
    "output_file_path = \"corpusfile_labeled.docx\"\n",
    "doc.save(output_file_path)\n",
    "print(\"Output saved as 'corpusfile_labeled.docx'.\")\n",
    "\n",
    "# Converting entity data to DataFrame\n",
    "df = pd.DataFrame(entity_data, columns=[\"NE\", \"Type\", \"Correct NE\", \"Comment\"])  # Last two columns are for manual corrections\n",
    "\n",
    "# Writing data to Excel file with XlsxWriter engine\n",
    "output_excel_path = \"entities_workfile.xlsx\"\n",
    "with pd.ExcelWriter(output_excel_path, engine='xlsxwriter') as writer:\n",
    "    # Write data to first sheet\n",
    "    df.to_excel(writer, index=False, sheet_name='Extracted Entities')\n",
    "    \n",
    "    # Second sheet with empty columns for manually identified NEs\n",
    "    empty_df = pd.DataFrame(columns=[\"NE\", \"Type\", \"Comment\"])  \n",
    "    empty_df.to_excel(writer, index=False, sheet_name='Manual NEs')\n",
    "\n",
    "print(\"Entity Counters:\")\n",
    "for entity_type, count in entity_counters.items():\n",
    "    print(f\"{entity_type}: {count}\")\n",
    "\n",
    "print(f\"Entities saved to '{output_excel_path}' Excel file.\")\n"
   ]
  },
  {
   "cell_type": "markdown",
   "metadata": {},
   "source": [
    "# References\n",
    "* Adelani, D. (2021). Xlm-roberta-large-ner-hrl [Computer software]. https://huggingface.co/Davlan/xlm-roberta-large-ner-hrl\n",
    "\n",
    "* ChatGPT 3.5. (October 2023). (2022). [Large Language Model]. Open AI. https://chat.openai.com/\n",
    "\n",
    "* GitHub Copilot (1.7.4421). (2021). [Generative AI model]. GitHub. https://github.com/features/copilot/\n",
    "\n",
    "* Jēkabsons, Gints (2023) Course materials from \"Natural Language Processing\". Riga Technical University.\n",
    "\n",
    "* UDPipe. (n.d.). Retrieved 14 April 2024, from https://ufal.mff.cuni.cz/udpipe"
   ]
  }
 ],
 "metadata": {
  "kernelspec": {
   "display_name": "Python 3",
   "language": "python",
   "name": "python3"
  },
  "language_info": {
   "codemirror_mode": {
    "name": "ipython",
    "version": 3
   },
   "file_extension": ".py",
   "mimetype": "text/x-python",
   "name": "python",
   "nbconvert_exporter": "python",
   "pygments_lexer": "ipython3",
   "version": "3.12.0"
  }
 },
 "nbformat": 4,
 "nbformat_minor": 2
}
